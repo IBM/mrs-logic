{
 "cells": [
  {
   "cell_type": "markdown",
   "id": "3d61bb9b-486b-4f5f-b27f-217d9372a221",
   "metadata": {},
   "source": [
    "# ULKB Initialization"
   ]
  },
  {
   "cell_type": "code",
   "execution_count": 1,
   "id": "ce94b8d6-8d58-4b8a-b6f1-efe6a5ca7775",
   "metadata": {},
   "outputs": [],
   "source": [
    "from ulkb import *   # import ULKB Logic namespace\n",
    "settings.serializer.ulkb.ensure_ascii = False"
   ]
  },
  {
   "cell_type": "markdown",
   "id": "dbd78f9d-02bf-4095-bdb1-4e731e6cc2b7",
   "metadata": {},
   "source": [
    "# FOL reasoning\n",
    "\n",
    "Below we directly encoded in ULKB the `PUZ001+1.p` from https://www.tptp.org/ website."
   ]
  },
  {
   "cell_type": "code",
   "execution_count": 2,
   "id": "2ddec102-de05-4fb4-b086-dfe599de02ff",
   "metadata": {},
   "outputs": [
    {
     "name": "stdout",
     "output_type": "stream",
     "text": [
      "26\taxiom ∃ x, lives x ∧ killed x agatha\n",
      "27\taxiom ∀ x, lives x → x = agatha ∨ x = butler ∨ x = charles\n",
      "28\taxiom ∀ x y, killed x y → hates x y\n",
      "29\taxiom ∀ x y, killed x y → ¬richer x y\n",
      "30\taxiom ∀ x, hates agatha x → ¬hates charles x\n",
      "31\taxiom ∀ x, x ≠ butler → hates agatha x\n",
      "32\taxiom ∀ x, ¬richer x agatha → hates butler x\n",
      "33\taxiom ∀ x, hates agatha x → hates butler x\n",
      "34\taxiom ¬(∃ x, ∀ y, lives y → hates x y)\n",
      "35\taxiom agatha ≠ butler\n"
     ]
    }
   ],
   "source": [
    "a             = TypeVariable('a') # a : *\n",
    "ab            = FunctionType(a, BoolType()) # a -> bool : *\n",
    "aab           = FunctionType(a, a, BoolType()) # a -> a -> bool : *\n",
    "aaab           = FunctionType(a, a, a, BoolType())\n",
    "\n",
    "lives         = new_constant(\"lives\", ab)\n",
    "killed        = new_constant(\"killed\", aab)\n",
    "hates         = new_constant(\"hates\", aab)\n",
    "richer        = new_constant(\"richer\", aab)\n",
    "\n",
    "agatha        = new_constant('agatha', a)\n",
    "butler        = new_constant('butler', a) \n",
    "charles       = new_constant('charles', a)\n",
    "\n",
    "x, y, w, z = Variables('x', 'y', 'w', 'z', a)\n",
    "\n",
    "ax1  = Exists(x, And(lives(x), killed(x,agatha)))\n",
    "ax3  = Forall(x, Implies(lives(x),Or(equal(x,agatha),equal(x,butler),equal(x,charles))))\n",
    "ax4  = Forall(x, Forall(y, Implies(killed(x,y),hates(x,y))))\n",
    "ax5  = Forall(x, y, Implies(killed(x,y), Not(richer(x,y))))\n",
    "ax6  = Forall(x, Implies(hates(agatha,x), Not(hates(charles,x))))\n",
    "ax7  = Forall(x, Implies(Not(equal(x,butler)), hates(agatha,x)))\n",
    "ax8  = Forall(x, Implies(Not(richer(x, agatha)), hates(butler,x)))\n",
    "ax9  = Forall(x, Implies(hates(agatha,x), hates(butler,x)))\n",
    "ax10 = Not(Exists(x, Forall(y, Implies(lives(y),hates(x,y)))))\n",
    "ax11 = Not(equal(agatha,butler))\n",
    "\n",
    "for ax in [ax1,ax3,ax4,ax5,ax6,ax7,ax8,ax9,ax10,ax11]: \n",
    "    new_axiom(ax)\n",
    "\n",
    "show_axioms()"
   ]
  },
  {
   "cell_type": "code",
   "execution_count": 3,
   "id": "f168421b-4101-4c5f-91b8-04f424ca2852",
   "metadata": {},
   "outputs": [
    {
     "data": {
      "text/plain": [
       "⊢ killed agatha agatha"
      ]
     },
     "execution_count": 3,
     "metadata": {},
     "output_type": "execute_result"
    }
   ],
   "source": [
    "RuleZ3(killed(agatha, agatha))"
   ]
  },
  {
   "cell_type": "markdown",
   "id": "6fd2073e-f918-46b0-b42d-4641a09076ed",
   "metadata": {},
   "source": [
    "Whatelse can we derive from these axioms?"
   ]
  },
  {
   "cell_type": "code",
   "execution_count": 4,
   "id": "000a2877-3ef2-4352-8e61-153d057f1ed3",
   "metadata": {},
   "outputs": [
    {
     "name": "stdout",
     "output_type": "stream",
     "text": [
      "FAILED butler = charles : 𝔹\n",
      "⊢ butler ≠ charles\n",
      "FAILED butler = agatha : 𝔹\n",
      "⊢ butler ≠ agatha\n",
      "FAILED (∃ x y z, lives x ∧ lives y ∧ lives z ∧ x ≠ y ∧ x ≠ z ∧ y ≠ z) : 𝔹\n",
      "⊢ ∃ x y, lives x ∧ lives y ∧ x ≠ y\n",
      "⊢ ∃ x y z, x ≠ y ∧ x ≠ z ∧ y ≠ z\n",
      "FAILED (∃ x y z w, x ≠ y ∧ x ≠ z ∧ x ≠ w ∧ y ≠ z ∧ y ≠ w ∧ z ≠ w) : 𝔹\n"
     ]
    }
   ],
   "source": [
    "sentences = [\n",
    "    Equal(butler, charles), Not(Equal(butler, charles)), \n",
    "    Equal(butler, agatha), Not(Equal(butler, agatha)), \n",
    "    Exists(x, y, z, And(lives(x), lives(y), lives(z), Not(Equal(x,y)), Not(Equal(x,z)), Not(Equal(y,z)))),\n",
    "    Exists(x, y, And(lives(x), lives(y), Not(Equal(x,y)))),\n",
    "    Exists(x, y, z, And(Not(Equal(x,y)), Not(Equal(x,z)), Not(Equal(y,z)))),\n",
    "    Exists(x, y, z, w, And(Not(Equal(x,y)), Not(Equal(x,z)), Not(Equal(x,w)), \n",
    "                              Not(Equal(y,z)), Not(Equal(y,w)), \n",
    "                              Not(Equal(z,w))))]\n",
    "\n",
    "for frm in sentences:\n",
    "    try: \n",
    "        print(RuleZ3(frm))\n",
    "    except:\n",
    "        print(f\"FAILED {frm}\")"
   ]
  },
  {
   "cell_type": "markdown",
   "id": "5fcd71cd-0fc6-443e-878f-592c655953d7",
   "metadata": {},
   "source": [
    "# MRS Logic\n",
    "\n",
    "Consider the semantics of:\n",
    "\n",
    "- Agatha is the only person who lives in Dreadbury.\n",
    "\n",
    "or, we can't distinguish the two cases:\n",
    "\n",
    "- Children who sing are happy.\n",
    "- Children who are happy sing."
   ]
  },
  {
   "cell_type": "code",
   "execution_count": 5,
   "id": "42c612eb-1a0a-4547-ade1-5433b94ffff7",
   "metadata": {},
   "outputs": [
    {
     "name": "stdout",
     "output_type": "stream",
     "text": [
      "env: ACE_GRAMMAR=erg.dat\n"
     ]
    }
   ],
   "source": [
    "# ! killall ukb_wsd\n",
    "%set_env ACE_GRAMMAR erg.dat\n",
    "import mrs_logic\n",
    "    \n",
    "ctx = mrs_logic.get_current_context()\n",
    "ctx.options['to_ulkb']['universe_type'] = a   # set the type of the (FOL) universe to \"a\"\n",
    "ctx.options['to_ulkb']['drop_uvars'] = True   # delete \"u\" vars\n",
    "ctx.options['to_ulkb']['drop_ivars'] = True   # delete \"i\" vars\n",
    "ctx.options.to_ulkb.mk_q_exists = ['_the_q']"
   ]
  },
  {
   "cell_type": "code",
   "execution_count": 6,
   "id": "d3214fde-f492-416e-bba4-ab154eb6af89",
   "metadata": {},
   "outputs": [],
   "source": [
    "txt = ['Someone who lives in Dreadbury killed Agatha.',\n",
    "       'Agatha, the butler, and Charles live in Dreadbury, and are the only people who live therein.',\n",
    "       'A killer always hates his victim, and is never richer than his victim',\n",
    "       'Charles hates no one that Agatha hates.',\n",
    "       'Agatha hates everyone except the butler',\n",
    "       'The butler hates everyone not richer than Agatha',\n",
    "       'The butler hates everyone Agatha hates',\n",
    "       'No one hates everyone',\n",
    "       'Agatha is not the butler']"
   ]
  },
  {
   "cell_type": "markdown",
   "id": "4e8ed6b9-97a8-4793-9393-bafc6ed9f182",
   "metadata": {},
   "source": [
    "## Sentence 0 "
   ]
  },
  {
   "cell_type": "code",
   "execution_count": 7,
   "id": "7ac6bf17-df3c-4162-a4c1-f73c2b408fc4",
   "metadata": {},
   "outputs": [
    {
     "name": "stdout",
     "output_type": "stream",
     "text": [
      "26\taxiom ∃ x, lives x ∧ killed x agatha\n",
      "27\taxiom ∀ x, lives x → x = agatha ∨ x = butler ∨ x = charles\n",
      "28\taxiom ∀ x y, killed x y → hates x y\n",
      "29\taxiom ∀ x y, killed x y → ¬richer x y\n",
      "30\taxiom ∀ x, hates agatha x → ¬hates charles x\n",
      "31\taxiom ∀ x, x ≠ butler → hates agatha x\n",
      "32\taxiom ∀ x, ¬richer x agatha → hates butler x\n",
      "33\taxiom ∀ x, hates agatha x → hates butler x\n",
      "34\taxiom ¬(∃ x, ∀ y, lives y → hates x y)\n",
      "35\taxiom agatha ≠ butler\n",
      "36\taxiom Agatha = agatha\n",
      "37\taxiom ∀ x, (∃ e1 e2 y, person x ∧ _live_v_1 e1 x ∧ _in_p_dir e2 e1 y ∧ Dreadbury = y) ↔ lives x\n",
      "38\taxiom ∀ x y, (∃ e1, _kill_v_1 e1 x y) ↔ killed x y\n"
     ]
    },
    {
     "data": {
      "text/plain": [
       "⊢ ∃ x10, Dreadbury = x10 ∧ (∃ x3, (∃ e8 e9, person x3 ∧ _live_v_1 e8 x3 ∧ _in_p_dir e9 e8 x10) ∧ (∃ x16, Agatha = x16 ∧ (∃ e2, _kill_v_1 e2 x3 x16)))"
      ]
     },
     "execution_count": 7,
     "metadata": {},
     "output_type": "execute_result"
    }
   ],
   "source": [
    "sol = next(mrs_logic.solve(txt[0]))\n",
    "form = sol.to_ulkb()\n",
    "# print(sol.mrs)\n",
    "# print(form)\n",
    "# form.constants\n",
    "\n",
    "x, y, e1, e2 = Variables('x', 'y', 'e1', 'e2', a)\n",
    "\n",
    "Agatha    = Constant('Agatha', a)\n",
    "Dreadbury = Constant('Dreadbury', a)\n",
    "person    = Constant('person', ab)\n",
    "_kill_v_1 = Constant('_kill_v_1', aaab)\n",
    "_in_p_dir = Constant('_in_p_dir', aaab)\n",
    "_live_v_1 = Constant('_live_v_1', aab)\n",
    "\n",
    "new_axiom(equal(Agatha, agatha))\n",
    "new_axiom(Forall(x, Iff(Exists(e1, e2, y, And(person(x), _live_v_1(e1, x), _in_p_dir(e2, e1, y), Equal(Dreadbury,y))), \n",
    "                        lives(x))))\n",
    "\n",
    "new_axiom(Forall(x, y, Iff(Exists(e1, _kill_v_1(e1, x, y)), killed(x,y))))\n",
    "\n",
    "show_axioms()\n",
    "RuleZ3(form)"
   ]
  },
  {
   "cell_type": "markdown",
   "id": "da115ce9-0f6b-4acb-924c-6ab10f2d0aa5",
   "metadata": {},
   "source": [
    "## Sentence 7"
   ]
  },
  {
   "cell_type": "code",
   "execution_count": null,
   "id": "8b7b780b-ceb1-4dc1-9de1-03999c644f53",
   "metadata": {},
   "outputs": [
    {
     "name": "stdout",
     "output_type": "stream",
     "text": [
      "(∀ x8, person x8 → (∀ x3, person x3 → ¬(∃ e2, _hate_v_1 e2 x3 x8))) : 𝔹\n",
      "26\taxiom ∃ x, lives x ∧ killed x agatha\n",
      "27\taxiom ∀ x, lives x → x = agatha ∨ x = butler ∨ x = charles\n",
      "28\taxiom ∀ x y, killed x y → hates x y\n",
      "29\taxiom ∀ x y, killed x y → ¬richer x y\n",
      "30\taxiom ∀ x, hates agatha x → ¬hates charles x\n",
      "31\taxiom ∀ x, x ≠ butler → hates agatha x\n",
      "32\taxiom ∀ x, ¬richer x agatha → hates butler x\n",
      "33\taxiom ∀ x, hates agatha x → hates butler x\n",
      "34\taxiom ¬(∃ x, ∀ y, lives y → hates x y)\n",
      "35\taxiom agatha ≠ butler\n",
      "36\taxiom Agatha = agatha\n",
      "37\taxiom ∀ x, (∃ e1 e2 y, person x ∧ _live_v_1 e1 x ∧ _in_p_dir e2 e1 y ∧ Dreadbury = y) ↔ lives x\n",
      "38\taxiom ∀ x y, (∃ e1, _kill_v_1 e1 x y) ↔ killed x y\n",
      "39\taxiom ∀ x y, (∃ e1, _hate_v_1 e1 x y) ↔ hates x y\n",
      "40\taxiom ∀ x, _butler_n_1 x ↔ x = butler\n",
      "41\taxiom ∀ x y, (∃ e1 e2, _rich_a_in e1 x ∧ more_comp e2 e1 y) ↔ richer x y\n"
     ]
    }
   ],
   "source": [
    "sol = next(mrs_logic.solve(txt[7]))\n",
    "form = sol.to_ulkb()\n",
    "print(form)\n",
    "# print(sol.mrs)\n",
    "\n",
    "_hate_v_1 = Constant('_hate_v_1', aaab)\n",
    "new_axiom(Forall(x, y, Iff(Exists(e1, _hate_v_1(e1,x,y)), hates(x,y))))\n",
    "\n",
    "show_axioms()\n",
    "RuleZ3(form)"
   ]
  },
  {
   "cell_type": "markdown",
   "id": "c75f91fa-844c-4a8f-b237-e78e30fd6b3b",
   "metadata": {},
   "source": [
    "## Sentence 6"
   ]
  },
  {
   "cell_type": "code",
   "execution_count": 9,
   "id": "d82988ba-0748-4e89-9ed5-1ee96e993f54",
   "metadata": {},
   "outputs": [
    {
     "name": "stdout",
     "output_type": "stream",
     "text": [
      "26\taxiom ∃ x, lives x ∧ killed x agatha\n",
      "27\taxiom ∀ x, lives x → x = agatha ∨ x = butler ∨ x = charles\n",
      "28\taxiom ∀ x y, killed x y → hates x y\n",
      "29\taxiom ∀ x y, killed x y → ¬richer x y\n",
      "30\taxiom ∀ x, hates agatha x → ¬hates charles x\n",
      "31\taxiom ∀ x, x ≠ butler → hates agatha x\n",
      "32\taxiom ∀ x, ¬richer x agatha → hates butler x\n",
      "33\taxiom ∀ x, hates agatha x → hates butler x\n",
      "34\taxiom ¬(∃ x, ∀ y, lives y → hates x y)\n",
      "35\taxiom agatha ≠ butler\n",
      "36\taxiom Agatha = agatha\n",
      "37\taxiom ∀ x, (∃ e1 e2 y, person x ∧ _live_v_1 e1 x ∧ _in_p_dir e2 e1 y ∧ Dreadbury = y) ↔ lives x\n",
      "38\taxiom ∀ x y, (∃ e1, _kill_v_1 e1 x y) ↔ killed x y\n",
      "39\taxiom ∀ x y, (∃ e1, _hate_v_1 e1 x y) ↔ hates x y\n",
      "40\taxiom ∀ x, _butler_n_1 x ↔ x = butler\n"
     ]
    },
    {
     "data": {
      "text/plain": [
       "⊢ ∀ x8, (∃ x14, Agatha = x14 ∧ (∃ e19, person x8 ∧ _hate_v_1 e19 x14 x8)) → (∃ x3, _butler_n_1 x3 ∧ (∃ e2, _hate_v_1 e2 x3 x8))"
      ]
     },
     "execution_count": 9,
     "metadata": {},
     "output_type": "execute_result"
    }
   ],
   "source": [
    "sol = next(mrs_logic.solve(txt[6]))\n",
    "form = sol.to_ulkb()\n",
    "# print(sol.mrs)\n",
    "# form.constants\n",
    "\n",
    "_butler_n_1 = Constant('_butler_n_1', ab)\n",
    "new_axiom(Forall(x, Iff(_butler_n_1(x), equal(x,butler))))\n",
    "\n",
    "show_axioms()\n",
    "RuleZ3(form)"
   ]
  },
  {
   "cell_type": "markdown",
   "id": "cdfc3c73-cd33-42d9-ad84-c5c3e6d3cc86",
   "metadata": {},
   "source": [
    "## Sentence 5"
   ]
  },
  {
   "cell_type": "code",
   "execution_count": 14,
   "id": "ab25ca78-953f-466d-983b-7aae9e51666f",
   "metadata": {},
   "outputs": [
    {
     "name": "stdout",
     "output_type": "stream",
     "text": [
      "26\taxiom ∃ x, lives x ∧ killed x agatha\n",
      "27\taxiom ∀ x, lives x → x = agatha ∨ x = butler ∨ x = charles\n",
      "28\taxiom ∀ x y, killed x y → hates x y\n",
      "29\taxiom ∀ x y, killed x y → ¬richer x y\n",
      "30\taxiom ∀ x, hates agatha x → ¬hates charles x\n",
      "31\taxiom ∀ x, x ≠ butler → hates agatha x\n",
      "32\taxiom ∀ x, ¬richer x agatha → hates butler x\n",
      "33\taxiom ∀ x, hates agatha x → hates butler x\n",
      "34\taxiom ¬(∃ x, ∀ y, lives y → hates x y)\n",
      "35\taxiom agatha ≠ butler\n",
      "36\taxiom Agatha = agatha\n",
      "37\taxiom ∀ x, (∃ e1 e2 y, person x ∧ _live_v_1 e1 x ∧ _in_p_dir e2 e1 y ∧ Dreadbury = y) ↔ lives x\n",
      "38\taxiom ∀ x y, (∃ e1, _kill_v_1 e1 x y) ↔ killed x y\n",
      "39\taxiom ∀ x y, (∃ e1, _hate_v_1 e1 x y) ↔ hates x y\n",
      "40\taxiom ∀ x, _butler_n_1 x ↔ x = butler\n",
      "41\taxiom ∀ x y, (∃ e1 e2, _rich_a_in e1 x ∧ more_comp e2 e1 y) ↔ richer x y\n"
     ]
    },
    {
     "data": {
      "text/plain": [
       "⊢ ∀ x8, person x8 ∧ ¬(∃ x19, Agatha = x19 ∧ (∃ e16 e18, _rich_a_in e16 x8 ∧ more_comp e18 e16 x19)) → (∃ x3, _butler_n_1 x3 ∧ (∃ e2, _hate_v_1 e2 x3 x8))"
      ]
     },
     "execution_count": 14,
     "metadata": {},
     "output_type": "execute_result"
    }
   ],
   "source": [
    "sol = next(mrs_logic.solve(txt[5]))\n",
    "form = sol.to_ulkb()\n",
    "# print(form)\n",
    "# print(sol.mrs)\n",
    "# form.constants\n",
    "\n",
    "_rich_a_in = Constant('_rich_a_in', aab)\n",
    "more_comp = Constant('more_comp', aaab)\n",
    "\n",
    "new_axiom(Forall(x,y, Iff(Exists(e1, e2, And(_rich_a_in(e1, x), more_comp(e2, e1, y))), richer(x,y))))\n",
    "\n",
    "show_axioms()\n",
    "RuleZ3(form)"
   ]
  },
  {
   "cell_type": "markdown",
   "id": "6c7f4b3b-a178-4e95-a652-74087ef57a7d",
   "metadata": {},
   "source": [
    "## Sentence 1"
   ]
  },
  {
   "cell_type": "code",
   "execution_count": 11,
   "id": "e7f2ee8a-2c89-43d9-838f-6ca01a4cf9f2",
   "metadata": {},
   "outputs": [
    {
     "name": "stdout",
     "output_type": "stream",
     "text": [
      "[ TOP: h0\n",
      "  INDEX: e2\n",
      "  RELS: < [ udef_q LBL: h4 ARG0: x3 RSTR: h5 BODY: h6 ]\n",
      "          [ proper_q LBL: h7 ARG0: x8 RSTR: h9 BODY: h10 ]\n",
      "          [ named LBL: h11 ARG0: x8 CARG: \"Agatha\" ]\n",
      "          [ udef_q LBL: h13 ARG0: x14 RSTR: h15 BODY: h16 ]\n",
      "          [ implicit_conj LBL: h17 ARG0: x3 ARG1: x8 ARG2: x14 ]\n",
      "          [ _the_q LBL: h18 ARG0: x19 RSTR: h20 BODY: h21 ]\n",
      "          [ _butler_n_1 LBL: h22 ARG0: x19 ]\n",
      "          [ _and_c LBL: h23 ARG0: x14 ARG1: x19 ARG2: x24 ]\n",
      "          [ proper_q LBL: h25 ARG0: x24 RSTR: h26 BODY: h27 ]\n",
      "          [ named LBL: h28 ARG0: x24 CARG: \"Charles\" ]\n",
      "          [ _live_v_1 LBL: h1 ARG0: e30 ARG1: x3 ]\n",
      "          [ _in_p_dir LBL: h1 ARG0: e31 ARG1: e30 ARG2: x32 ]\n",
      "          [ proper_q LBL: h33 ARG0: x32 RSTR: h34 BODY: h35 ]\n",
      "          [ named LBL: h36 ARG0: x32 CARG: \"Dreadbury\" ]\n",
      "          [ _and_c LBL: h1 ARG0: e2 ARG1: e30 ARG2: e38 ]\n",
      "          [ _be_v_id LBL: h1 ARG0: e38 ARG1: x3 ARG2: x39 ]\n",
      "          [ _the_q LBL: h40 ARG0: x39 RSTR: h41 BODY: h42 ]\n",
      "          [ _only_a_1 LBL: h43 ARG0: e44 ARG1: x39 ]\n",
      "          [ _people_n_of LBL: h43 ARG0: x39 ARG1: i45 ]\n",
      "          [ _live_v_1 LBL: h43 ARG0: e46 ARG1: x39 ]\n",
      "          [ _therein_p_dir LBL: h43 ARG0: e47 ARG1: e46 ] >\n",
      "  HCONS: < h0 qeq h1 h5 qeq h17 h9 qeq h11 h15 qeq h23 h20 qeq h22 h26 qeq h28 h34 qeq h36 h41 qeq h43 > ]\n",
      "(∃ x32, Dreadbury = x32 ∧ (∃ x14, (∃ x24, Charles = x24 ∧ (∃ x19, _butler_n_1 x19 ∧ _and_c x14 x19 x24)) ∧ (∃ x39, (∃ e44 e46 e47, _only_a_1 e44 x39 ∧ _people_n_of x39 ∧ _live_v_1 e46 x39 ∧ _therein_p_dir e47 e46) ∧ (∃ x3, (∃ x8, Agatha = x8 ∧ implicit_conj x3 x8 x14) ∧ (∃ e30 e31 e2 e38, _live_v_1 e30 x3 ∧ _in_p_dir e31 e30 x32 ∧ _and_c e2 e30 e38 ∧ _be_v_id e38 x3 x39))))) : 𝔹\n"
     ]
    },
    {
     "data": {
      "text/plain": [
       "frozenset({Agatha : a,\n",
       "           Charles : a,\n",
       "           Dreadbury : a,\n",
       "           _and_c : a → a → a → 𝔹,\n",
       "           _be_v_id : a → a → a → 𝔹,\n",
       "           _butler_n_1 : a → 𝔹,\n",
       "           _in_p_dir : a → a → a → 𝔹,\n",
       "           _live_v_1 : a → a → 𝔹,\n",
       "           _only_a_1 : a → a → 𝔹,\n",
       "           _people_n_of : a → 𝔹,\n",
       "           _therein_p_dir : a → a → 𝔹,\n",
       "           and : 𝔹 → 𝔹 → 𝔹,\n",
       "           equal : a → a → 𝔹,\n",
       "           exists : (a → 𝔹) → 𝔹,\n",
       "           implicit_conj : a → a → a → 𝔹})"
      ]
     },
     "execution_count": 11,
     "metadata": {},
     "output_type": "execute_result"
    }
   ],
   "source": [
    "sol = next(mrs_logic.solve(txt[1]))\n",
    "form = sol.to_ulkb()\n",
    "\n",
    "print(sol.mrs)\n",
    "print(form)\n",
    "form.constants"
   ]
  },
  {
   "cell_type": "code",
   "execution_count": 12,
   "id": "fe5f0bec-ff86-4dea-be61-0a51663612bf",
   "metadata": {},
   "outputs": [
    {
     "name": "stdout",
     "output_type": "stream",
     "text": [
      "26\taxiom ∃ x, lives x ∧ killed x agatha\n",
      "27\taxiom ∀ x, lives x → x = agatha ∨ x = butler ∨ x = charles\n",
      "28\taxiom ∀ x y, killed x y → hates x y\n",
      "29\taxiom ∀ x y, killed x y → ¬richer x y\n",
      "30\taxiom ∀ x, hates agatha x → ¬hates charles x\n",
      "31\taxiom ∀ x, x ≠ butler → hates agatha x\n",
      "32\taxiom ∀ x, ¬richer x agatha → hates butler x\n",
      "33\taxiom ∀ x, hates agatha x → hates butler x\n",
      "34\taxiom ¬(∃ x, ∀ y, lives y → hates x y)\n",
      "35\taxiom agatha ≠ butler\n",
      "36\taxiom Agatha = agatha\n",
      "37\taxiom ∀ x, (∃ e1 e2 y, person x ∧ _live_v_1 e1 x ∧ _in_p_dir e2 e1 y ∧ Dreadbury = y) ↔ lives x\n",
      "38\taxiom ∀ x y, (∃ e1, _kill_v_1 e1 x y) ↔ killed x y\n",
      "39\taxiom ∀ x y, (∃ e1, _hate_v_1 e1 x y) ↔ hates x y\n",
      "40\taxiom ∀ x, _butler_n_1 x ↔ x = butler\n",
      "41\taxiom ∀ x y, (∃ e, _be_v_id e x y) ↔ x = y\n",
      "42\taxiom person Agatha\n",
      "43\taxiom person Charles\n",
      "44\taxiom ∀ x, _butler_n_1 x → person x\n",
      "45\taxiom ∀ x y z, ∃ x1 x2 e, implicit_conj x1 x x2 ∧ _and_c x2 y z ∧ _live_v_1 e x1 ↔ lives x ∧ lives y ∧ lives z\n",
      "46\taxiom ∀ x y z, ∃ x1 x2 e, implicit_conj x1 x x2 ∧ _and_c x2 y z ∧ _people_n_of x1 ↔ person x ∧ person y ∧ person z\n"
     ]
    }
   ],
   "source": [
    "x, x1, x2, x3, w, z, e, e1, e2 = Variables('x', 'x1', 'x2', 'x3', 'w', 'z', 'e', 'e1', 'e2', a)\n",
    "\n",
    "Charles      = Constant('Charles', a)\n",
    "_butler_n_1  = Constant('_butler_n_1', FunctionType(a, bool))\n",
    "_people_n_of = Constant('_people_n_of', FunctionType(a, bool))\n",
    "\n",
    "implicit_conj = Constant('implicit_conj', FunctionType(a, a, a, bool))\n",
    "_and_c        = Constant('_and_c', FunctionType(a, a, a, bool))\n",
    "_be_v_id      = Constant('_be_v_id', FunctionType(a, a, a, bool))\n",
    "_only_a_1     = Constant('_only_a_1', FunctionType(a, a, bool))\n",
    "\n",
    "def ax1(p1,p2):\n",
    "    return Forall(x, y, z, Exists(x1, x2, e, \n",
    "                                  Iff(And(implicit_conj(x1, x, x2), _and_c(x2, y, z), p1(e, x1)),\n",
    "                                      Exists(w, Implies(p2(w), Or(Equal(w,x), Equal(w,y), Equal(w,z)))))))\n",
    "\n",
    "def ax1(p1,p2):\n",
    "    return Forall(x, y, z, Exists(x1, x2, e, \n",
    "                                  Iff(And(implicit_conj(x1, x, x2), _and_c(x2, y, z), p1(e, x1)),\n",
    "                                      And(p2(x), p2(y), p2(z)))))\n",
    "\n",
    "def ax2(p1,p2):\n",
    "    return Forall(x, y, z, Exists(x1, x2, e, Iff(And(implicit_conj(x1, x, x2), _and_c(x2, y, z), p1(x1)),\n",
    "                                                 And(p2(x), p2(y), p2(z)))))\n",
    "\n",
    "# semantics of only\n",
    "\n",
    "new_axiom(Forall(x,y, Iff(Exists(e, _be_v_id(e, x, y)), Equal(x,y))))\n",
    "new_axiom(person(Agatha))\n",
    "new_axiom(person(Charles))\n",
    "new_axiom(Forall(x, Implies(_butler_n_1(x), person(x))))\n",
    "\n",
    "new_axiom(ax1(_live_v_1,lives))\n",
    "new_axiom(ax2(_people_n_of,person))\n",
    "\n",
    "# the butler should be a uniry predicate\n",
    "new_axiom(Forall(x, Iff(_butler_n_1(x), Equal(x,butler)))) \n",
    "\n",
    "show_axioms()"
   ]
  },
  {
   "cell_type": "code",
   "execution_count": 13,
   "id": "cad0cda9-f094-43c9-9de0-8101cad8fcf6",
   "metadata": {},
   "outputs": [],
   "source": [
    "# RuleZ3(form)"
   ]
  },
  {
   "cell_type": "code",
   "execution_count": 14,
   "id": "950de92d-d143-4169-9e98-1b4638fcb2d9",
   "metadata": {},
   "outputs": [
    {
     "name": "stdout",
     "output_type": "stream",
     "text": [
      "[ TOP: h0\n",
      "  INDEX: e2\n",
      "  RELS: < [ udef_q LBL: h4 ARG0: x3 RSTR: h5 BODY: h6 ]\n",
      "          [ proper_q LBL: h7 ARG0: x8 RSTR: h9 BODY: h10 ]\n",
      "          [ named LBL: h11 ARG0: x8 CARG: \"Agatha\" ]\n",
      "          [ udef_q LBL: h13 ARG0: x14 RSTR: h15 BODY: h16 ]\n",
      "          [ implicit_conj LBL: h17 ARG0: x3 ARG1: x8 ARG2: x14 ]\n",
      "          [ _the_q LBL: h18 ARG0: x19 RSTR: h20 BODY: h21 ]\n",
      "          [ _butler_n_1 LBL: h22 ARG0: x19 ]\n",
      "          [ _and_c LBL: h23 ARG0: x14 ARG1: x19 ARG2: x24 ]\n",
      "          [ proper_q LBL: h25 ARG0: x24 RSTR: h26 BODY: h27 ]\n",
      "          [ named LBL: h28 ARG0: x24 CARG: \"Charles\" ]\n",
      "          [ _live_v_1 LBL: h1 ARG0: e2 ARG1: x3 ]\n",
      "          [ _in_p_dir LBL: h1 ARG0: e30 ARG1: e2 ARG2: x31 ]\n",
      "          [ proper_q LBL: h32 ARG0: x31 RSTR: h33 BODY: h34 ]\n",
      "          [ named LBL: h35 ARG0: x31 CARG: \"Dreadbury\" ] >\n",
      "  HCONS: < h0 qeq h1 h5 qeq h17 h9 qeq h11 h15 qeq h23 h20 qeq h22 h26 qeq h28 h33 qeq h35 > ]\n",
      "(∃ x31, Dreadbury = x31 ∧ (∃ x24, Charles = x24 ∧ (∃ x14, (∃ x19, _butler_n_1 x19 ∧ _and_c x14 x19 x24) ∧ (∃ x3, (∃ x8, Agatha = x8 ∧ implicit_conj x3 x8 x14) ∧ (∃ e2 e30, _live_v_1 e2 x3 ∧ _in_p_dir e30 e2 x31))))) : 𝔹\n"
     ]
    },
    {
     "data": {
      "text/plain": [
       "frozenset({Agatha : a,\n",
       "           Charles : a,\n",
       "           Dreadbury : a,\n",
       "           _and_c : a → a → a → 𝔹,\n",
       "           _butler_n_1 : a → 𝔹,\n",
       "           _in_p_dir : a → a → a → 𝔹,\n",
       "           _live_v_1 : a → a → 𝔹,\n",
       "           and : 𝔹 → 𝔹 → 𝔹,\n",
       "           equal : a → a → 𝔹,\n",
       "           exists : (a → 𝔹) → 𝔹,\n",
       "           implicit_conj : a → a → a → 𝔹})"
      ]
     },
     "execution_count": 14,
     "metadata": {},
     "output_type": "execute_result"
    }
   ],
   "source": [
    "sol = next(mrs_logic.solve('Agatha, the butler, and Charles live in Dreadbury.'))\n",
    "form = sol.to_ulkb()\n",
    "\n",
    "print(sol.mrs)\n",
    "print(form)\n",
    "form.constants\n",
    "# RuleZ3(form)"
   ]
  },
  {
   "cell_type": "markdown",
   "id": "9f7f745c-3a17-4bfd-81da-d4b04e595063",
   "metadata": {},
   "source": [
    "Can you think in a sentence where udef_q need to be interpreted as (\\exists x, RSTR and BODY) and not (\\forall x, RSTR -> BODY)?\n",
    "\n",
    "Several examples:\n",
    "1. nonhead noun in N-N compounds:\n",
    "The dog owner appeared.\n",
    "[quantifier for \"dog\" variable]\n",
    "2. Prepositional phrases with a determinerless nominal:\n",
    "\"He read the book from beginning to end.\"\n",
    "3. coordination with identity:\n",
    "\"My friend and neighbor often helps me.\"\n"
   ]
  },
  {
   "cell_type": "code",
   "execution_count": null,
   "id": "f1b8db82-7311-4173-9932-37187d91058c",
   "metadata": {},
   "outputs": [],
   "source": []
  }
 ],
 "metadata": {
  "kernelspec": {
   "display_name": "Python 3 (ipykernel)",
   "language": "python",
   "name": "python3"
  },
  "language_info": {
   "codemirror_mode": {
    "name": "ipython",
    "version": 3
   },
   "file_extension": ".py",
   "mimetype": "text/x-python",
   "name": "python",
   "nbconvert_exporter": "python",
   "pygments_lexer": "ipython3",
   "version": "3.12.4"
  }
 },
 "nbformat": 4,
 "nbformat_minor": 5
}
