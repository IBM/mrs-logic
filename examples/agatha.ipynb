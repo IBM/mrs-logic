{
 "cells": [
  {
   "cell_type": "markdown",
   "id": "3d61bb9b-486b-4f5f-b27f-217d9372a221",
   "metadata": {},
   "source": [
    "# ULKB Initialization"
   ]
  },
  {
   "cell_type": "code",
   "execution_count": 2,
   "id": "ce94b8d6-8d58-4b8a-b6f1-efe6a5ca7775",
   "metadata": {},
   "outputs": [],
   "source": [
    "from ulkb import *                   # import ULKB Logic namespace\n",
    "settings.serializer.ulkb.ensure_ascii = True"
   ]
  },
  {
   "cell_type": "markdown",
   "id": "dbd78f9d-02bf-4095-bdb1-4e731e6cc2b7",
   "metadata": {},
   "source": [
    "# FOL reasoning"
   ]
  },
  {
   "cell_type": "code",
   "execution_count": 27,
   "id": "2ddec102-de05-4fb4-b086-dfe599de02ff",
   "metadata": {},
   "outputs": [
    {
     "name": "stdout",
     "output_type": "stream",
     "text": [
      "26\taxiom exists x, lives x and killed x agatha\n",
      "27\taxiom forall x, lives x -> x = agatha or x = butler or x = charles\n",
      "28\taxiom forall x y, killed x y -> hates x y\n",
      "29\taxiom forall x y, killed x y -> not richer x y\n",
      "30\taxiom forall x, hates agatha x -> not hates charles x\n",
      "31\taxiom forall x, x != butler -> hates agatha x\n",
      "32\taxiom forall x, not richer x agatha -> hates butler x\n",
      "33\taxiom forall x, hates agatha x -> hates butler x\n",
      "34\taxiom not (exists x, forall y, lives y -> hates x y)\n",
      "35\taxiom agatha != butler\n"
     ]
    }
   ],
   "source": [
    "a             = TypeVariable('a') # a : *\n",
    "ab            = FunctionType(a, BoolType()) # a -> bool : *\n",
    "aab           = FunctionType(a, a, BoolType()) # a -> a -> bool : *\n",
    "\n",
    "lives         = new_constant(\"lives\", ab)\n",
    "killed        = new_constant(\"killed\", aab)\n",
    "hates         = new_constant(\"hates\", aab)\n",
    "richer        = new_constant(\"richer\", aab)\n",
    "\n",
    "agatha        = new_constant('agatha', a)\n",
    "butler        = new_constant('butler', a)\n",
    "charles       = new_constant('charles', a)\n",
    "\n",
    "x, y = Variables('x', 'y', a)\n",
    "\n",
    "ax1  = Exists(x, And(lives(x), killed(x,agatha)))\n",
    "ax3  = Forall(x, Implies(lives(x),Or(equal(x,agatha),equal(x,butler),equal(x,charles))))\n",
    "ax4  = Forall(x, Forall(y, Implies(killed(x,y),hates(x,y))))\n",
    "ax5  = Forall(x, y, Implies(killed(x,y), Not(richer(x,y))))\n",
    "ax6  = Forall(x, Implies(hates(agatha,x), Not(hates(charles,x))))\n",
    "ax7  = Forall(x, Implies(Not(equal(x,butler)), hates(agatha,x)))\n",
    "ax8  = Forall(x, Implies(Not(richer(x, agatha)), hates(butler,x)))\n",
    "ax9  = Forall(x, Implies(hates(agatha,x), hates(butler,x)))\n",
    "ax10 = Not(Exists(x, Forall(y, Implies(lives(y),hates(x,y)))))\n",
    "ax11 = Not(equal(agatha,butler))\n",
    "\n",
    "for ax in [ax1,ax3,ax4,ax5,ax6,ax7,ax8,ax9,ax10,ax11]: \n",
    "    new_axiom(ax)\n",
    "\n",
    "show_axioms()"
   ]
  },
  {
   "cell_type": "code",
   "execution_count": 28,
   "id": "f168421b-4101-4c5f-91b8-04f424ca2852",
   "metadata": {},
   "outputs": [
    {
     "name": "stdout",
     "output_type": "stream",
     "text": [
      "|- killed agatha agatha\n"
     ]
    }
   ],
   "source": [
    "print(RuleZ3(killed(agatha, agatha)))"
   ]
  },
  {
   "cell_type": "markdown",
   "id": "5fcd71cd-0fc6-443e-878f-592c655953d7",
   "metadata": {},
   "source": [
    "# MRS Logic"
   ]
  },
  {
   "cell_type": "code",
   "execution_count": 35,
   "id": "42c612eb-1a0a-4547-ade1-5433b94ffff7",
   "metadata": {},
   "outputs": [
    {
     "name": "stdout",
     "output_type": "stream",
     "text": [
      "No matching processes belonging to you were found\n",
      "env: ACE_GRAMMAR=erg.dat\n"
     ]
    }
   ],
   "source": [
    "! killall ukb_wsd\n",
    "%set_env ACE_GRAMMAR erg.dat\n",
    "import mrs_logic\n",
    "    \n",
    "ctx = mrs_logic.get_current_context()\n",
    "ctx.options['to_ulkb']['universe_type'] = a   # set the type of the (FOL) universe to \"a\"\n",
    "ctx.options['to_ulkb']['drop_uvars'] = True   # delete \"u\" vars"
   ]
  },
  {
   "cell_type": "code",
   "execution_count": 36,
   "id": "d3214fde-f492-416e-bba4-ab154eb6af89",
   "metadata": {},
   "outputs": [
    {
     "name": "stdout",
     "output_type": "stream",
     "text": [
      "[ TOP: h0\n",
      "  INDEX: e2\n",
      "  RELS: < [ person LBL: h4 ARG0: x3 ]\n",
      "          [ _some_q LBL: h5 ARG0: x3 RSTR: h6 BODY: h7 ]\n",
      "          [ _live_v_1 LBL: h4 ARG0: e8 ARG1: x3 ]\n",
      "          [ _in_p_dir LBL: h4 ARG0: e9 ARG1: e8 ARG2: x10 ]\n",
      "          [ proper_q LBL: h11 ARG0: x10 RSTR: h12 BODY: h13 ]\n",
      "          [ named LBL: h14 ARG0: x10 CARG: \"Mansion\" ]\n",
      "          [ _kill_v_1 LBL: h1 ARG0: e2 ARG1: x3 ARG2: x16 ]\n",
      "          [ proper_q LBL: h17 ARG0: x16 RSTR: h18 BODY: h19 ]\n",
      "          [ named LBL: h20 ARG0: x16 CARG: \"Agatha\" ] >\n",
      "  HCONS: < h0 qeq h1 h6 qeq h4 h12 qeq h14 h18 qeq h20 > ]\n",
      "(exists x10, Mansion = x10 and (exists x3, (exists e8 e9, person x3 and _live_v_1 e8 x3 and _in_p_dir e9 e8 x10) and (exists x16, Agatha = x16 and (exists e2, _kill_v_1 e2 x3 x16)))) : bool\n"
     ]
    },
    {
     "data": {
      "text/plain": [
       "frozenset({Agatha : a,\n",
       "           Mansion : a,\n",
       "           _in_p_dir : a -> a -> a -> bool,\n",
       "           _kill_v_1 : a -> a -> a -> bool,\n",
       "           _live_v_1 : a -> a -> bool,\n",
       "           and : bool -> bool -> bool,\n",
       "           equal : a -> a -> bool,\n",
       "           exists : (a -> bool) -> bool,\n",
       "           person : a -> bool})"
      ]
     },
     "execution_count": 36,
     "metadata": {},
     "output_type": "execute_result"
    }
   ],
   "source": [
    "sol = next(mrs_logic.solve('Someone who lives in Mansion killed Agatha.'))\n",
    "form = sol.to_ulkb()\n",
    "print(sol.mrs)\n",
    "print(form)\n",
    "form.constants"
   ]
  },
  {
   "cell_type": "code",
   "execution_count": 37,
   "id": "7ac6bf17-df3c-4162-a4c1-f73c2b408fc4",
   "metadata": {},
   "outputs": [
    {
     "name": "stdout",
     "output_type": "stream",
     "text": [
      "26\taxiom exists x, lives x and killed x agatha\n",
      "27\taxiom forall x, lives x -> x = agatha or x = butler or x = charles\n",
      "28\taxiom forall x y, killed x y -> hates x y\n",
      "29\taxiom forall x y, killed x y -> not richer x y\n",
      "30\taxiom forall x, hates agatha x -> not hates charles x\n",
      "31\taxiom forall x, x != butler -> hates agatha x\n",
      "32\taxiom forall x, not richer x agatha -> hates butler x\n",
      "33\taxiom forall x, hates agatha x -> hates butler x\n",
      "34\taxiom not (exists x, forall y, lives y -> hates x y)\n",
      "35\taxiom agatha != butler\n",
      "36\taxiom Agatha = agatha\n",
      "37\taxiom forall x, (exists e1 e2 y, person x and _live_v_1 e1 x and _in_p_dir e2 e1 y and Mansion = y) <-> lives x\n",
      "38\taxiom forall x y, (exists e1, _kill_v_1 e1 x y) <-> killed x y\n"
     ]
    }
   ],
   "source": [
    "x, y, e1, e2 = Variables('x', 'y', 'e1', 'e2', a)\n",
    "\n",
    "Agatha    = Constant('Agatha', a)\n",
    "Mansion   = Constant('Mansion', a)\n",
    "person    = Constant('person', FunctionType(a, bool))\n",
    "_kill_v_1 = Constant('_kill_v_1', FunctionType(a, a, a, bool))\n",
    "_in_p_dir = Constant('_in_p_dir', FunctionType(a, a, a, bool))\n",
    "_live_v_1 = Constant('_live_v_1', FunctionType(a, a, bool))\n",
    "\n",
    "new_axiom(equal(Agatha, agatha))\n",
    "new_axiom(Forall(x, Iff(Exists(e1, e2, y, And(person(x), _live_v_1(e1, x), _in_p_dir(e2, e1, y),Equal(Mansion,y))), \n",
    "                        lives(x))))\n",
    "\n",
    "new_axiom(Forall(x,y,Iff(Exists(e1, _kill_v_1(e1, x, y)), killed(x,y))))\n",
    "\n",
    "show_axioms()"
   ]
  },
  {
   "cell_type": "code",
   "execution_count": 39,
   "id": "96643d88-3637-47ba-84ec-b64a0add5d2c",
   "metadata": {},
   "outputs": [
    {
     "data": {
      "text/plain": [
       "|- exists x10, Mansion = x10 and (exists x3, (exists e8 e9, person x3 and _live_v_1 e8 x3 and _in_p_dir e9 e8 x10) and (exists x16, Agatha = x16 and (exists e2, _kill_v_1 e2 x3 x16)))"
      ]
     },
     "execution_count": 39,
     "metadata": {},
     "output_type": "execute_result"
    }
   ],
   "source": [
    "RuleZ3(form)"
   ]
  },
  {
   "cell_type": "code",
   "execution_count": null,
   "id": "e7f2ee8a-2c89-43d9-838f-6ca01a4cf9f2",
   "metadata": {},
   "outputs": [],
   "source": []
  }
 ],
 "metadata": {
  "kernelspec": {
   "display_name": "Python 3 (ipykernel)",
   "language": "python",
   "name": "python3"
  },
  "language_info": {
   "codemirror_mode": {
    "name": "ipython",
    "version": 3
   },
   "file_extension": ".py",
   "mimetype": "text/x-python",
   "name": "python",
   "nbconvert_exporter": "python",
   "pygments_lexer": "ipython3",
   "version": "3.12.3"
  }
 },
 "nbformat": 4,
 "nbformat_minor": 5
}
