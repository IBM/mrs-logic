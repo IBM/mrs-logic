{
 "cells": [
  {
   "cell_type": "markdown",
   "id": "3d61bb9b-486b-4f5f-b27f-217d9372a221",
   "metadata": {},
   "source": [
    "# ULKB Initialization"
   ]
  },
  {
   "cell_type": "code",
   "execution_count": 1,
   "id": "ce94b8d6-8d58-4b8a-b6f1-efe6a5ca7775",
   "metadata": {},
   "outputs": [],
   "source": [
    "from itertools import islice\n",
    "from ulkb import *   # import ULKB Logic namespace\n",
    "settings.serializer.ulkb.ensure_ascii = False"
   ]
  },
  {
   "cell_type": "markdown",
   "id": "dbd78f9d-02bf-4095-bdb1-4e731e6cc2b7",
   "metadata": {},
   "source": [
    "# FOL reasoning\n",
    "\n",
    "Below we directly encoded in ULKB the `PUZ001+1.p` from https://www.tptp.org/ website."
   ]
  },
  {
   "cell_type": "code",
   "execution_count": 2,
   "id": "2ddec102-de05-4fb4-b086-dfe599de02ff",
   "metadata": {},
   "outputs": [],
   "source": [
    "txt = ['Someone who lives in Dreadbury killed Agatha.',\n",
    "       'Agatha, the butler, and Charles live in Dreadbury, and are the only people who live therein.',\n",
    "       'A killer always hates his victim, and is never richer than his victim',\n",
    "       'Charles hates no one that Agatha hates.',\n",
    "       'Agatha hates everyone except the butler',\n",
    "       'The butler hates everyone not richer than Agatha',\n",
    "       'The butler hates everyone Agatha hates',\n",
    "       'No one hates everyone',\n",
    "       'Agatha is not the butler']\n",
    "\n",
    "a             = TypeVariable('a') # a : *\n",
    "ab            = FunctionType(a, BoolType()) # a -> bool : *\n",
    "aab           = FunctionType(a, a, BoolType()) # a -> a -> bool : *\n",
    "aaab           = FunctionType(a, a, a, BoolType())\n",
    "\n",
    "lives         = new_constant(\"lives\", ab)\n",
    "killed        = new_constant(\"killed\", aab)\n",
    "hates         = new_constant(\"hates\", aab)\n",
    "richer        = new_constant(\"richer\", aab)\n",
    "\n",
    "agatha        = new_constant('agatha', a)\n",
    "butler        = new_constant('butler', a) \n",
    "charles       = new_constant('charles', a)\n",
    "\n",
    "x, y, w, z = Variables('x', 'y', 'w', 'z', a)\n",
    "\n",
    "ax0  = Exists(x, And(lives(x), killed(x,agatha)))\n",
    "ax1  = Forall(x, Implies(lives(x), Or(equal(x,agatha),equal(x,butler),equal(x,charles))))\n",
    "ax21 = Forall(x, Forall(y, Implies(killed(x,y),hates(x,y))))\n",
    "ax22 = Forall(x, y, Implies(killed(x,y), Not(richer(x,y))))\n",
    "ax3  = Forall(x, Implies(hates(agatha,x), Not(hates(charles,x))))\n",
    "ax4  = Forall(x, Implies(Not(equal(x,butler)), hates(agatha,x)))\n",
    "ax5  = Forall(x, Implies(Not(richer(x, agatha)), hates(butler,x)))\n",
    "ax6  = Forall(x, Implies(hates(agatha,x), hates(butler,x)))\n",
    "# ax7  = Not(Exists(x, Forall(y, Implies(lives(y),hates(x,y)))))\n",
    "ax7  = Not(Exists(x, Forall(y, hates(x,y))))\n",
    "ax8  = Not(equal(agatha,butler))"
   ]
  },
  {
   "cell_type": "code",
   "execution_count": 3,
   "id": "31feca8b-d297-407d-966f-76b876bac5cf",
   "metadata": {},
   "outputs": [],
   "source": [
    "for ax in [ax0,ax1,ax21,ax22,ax3,ax4,ax5,ax6,ax7,ax8]: \n",
    "    new_axiom(ax)"
   ]
  },
  {
   "cell_type": "code",
   "execution_count": 4,
   "id": "c2e1fb5f-f459-4db8-980d-23cf98a7fb15",
   "metadata": {},
   "outputs": [
    {
     "name": "stdout",
     "output_type": "stream",
     "text": [
      "26\taxiom ∃ x, lives x ∧ killed x agatha\n",
      "27\taxiom ∀ x, lives x → x = agatha ∨ x = butler ∨ x = charles\n",
      "28\taxiom ∀ x y, killed x y → hates x y\n",
      "29\taxiom ∀ x y, killed x y → ¬richer x y\n",
      "30\taxiom ∀ x, hates agatha x → ¬hates charles x\n",
      "31\taxiom ∀ x, x ≠ butler → hates agatha x\n",
      "32\taxiom ∀ x, ¬richer x agatha → hates butler x\n",
      "33\taxiom ∀ x, hates agatha x → hates butler x\n",
      "34\taxiom ¬(∃ x, ∀ y, hates x y)\n",
      "35\taxiom agatha ≠ butler\n"
     ]
    },
    {
     "data": {
      "text/plain": [
       "⊢ killed agatha agatha"
      ]
     },
     "execution_count": 4,
     "metadata": {},
     "output_type": "execute_result"
    }
   ],
   "source": [
    "show_axioms()\n",
    "RuleZ3(killed(agatha, agatha), timeout = 60)"
   ]
  },
  {
   "cell_type": "markdown",
   "id": "6fd2073e-f918-46b0-b42d-4641a09076ed",
   "metadata": {},
   "source": [
    "Whatelse can we derive from these axioms?"
   ]
  },
  {
   "cell_type": "code",
   "execution_count": 5,
   "id": "000a2877-3ef2-4352-8e61-153d057f1ed3",
   "metadata": {},
   "outputs": [
    {
     "name": "stdout",
     "output_type": "stream",
     "text": [
      "F butler = charles : 𝔹\n",
      "⊢ butler ≠ charles\n",
      "F butler = agatha : 𝔹\n",
      "⊢ butler ≠ agatha\n",
      "F (∃ x y z, lives x ∧ lives y ∧ lives z ∧ x ≠ y ∧ x ≠ z ∧ y ≠ z) : 𝔹\n",
      "F (∃ x y, lives x ∧ lives y ∧ x ≠ y) : 𝔹\n",
      "⊢ ∃ x y z, x ≠ y ∧ x ≠ z ∧ y ≠ z\n",
      "F (∃ x y z w, x ≠ y ∧ x ≠ z ∧ x ≠ w ∧ y ≠ z ∧ y ≠ w ∧ z ≠ w) : 𝔹\n"
     ]
    }
   ],
   "source": [
    "sentences = [\n",
    "    Equal(butler, charles), Not(Equal(butler, charles)), \n",
    "    Equal(butler, agatha), Not(Equal(butler, agatha)), \n",
    "    Exists(x, y, z, And(lives(x), lives(y), lives(z), Not(Equal(x,y)), Not(Equal(x,z)), Not(Equal(y,z)))),\n",
    "    Exists(x, y, And(lives(x), lives(y), Not(Equal(x,y)))),\n",
    "    Exists(x, y, z, And(Not(Equal(x,y)), Not(Equal(x,z)), Not(Equal(y,z)))),\n",
    "    Exists(x, y, z, w, And(Not(Equal(x,y)), Not(Equal(x,z)), Not(Equal(x,w)), \n",
    "                              Not(Equal(y,z)), Not(Equal(y,w)), \n",
    "                              Not(Equal(z,w))))]\n",
    "\n",
    "for frm in sentences:\n",
    "    try: \n",
    "        print(RuleZ3(frm))\n",
    "    except:\n",
    "        print(f\"F {frm}\")"
   ]
  },
  {
   "cell_type": "markdown",
   "id": "5fcd71cd-0fc6-443e-878f-592c655953d7",
   "metadata": {},
   "source": [
    "# MRS Logic\n",
    "\n",
    "Consider the semantics of:\n",
    "\n",
    "- Agatha is the only person who lives in Dreadbury.\n",
    "\n",
    "or, we can't distinguish the two cases:\n",
    "\n",
    "- Children who sing are happy.\n",
    "- Children who are happy sing."
   ]
  },
  {
   "cell_type": "code",
   "execution_count": 6,
   "id": "42c612eb-1a0a-4547-ade1-5433b94ffff7",
   "metadata": {},
   "outputs": [
    {
     "name": "stdout",
     "output_type": "stream",
     "text": [
      "env: ACE_GRAMMAR=erg.dat\n"
     ]
    }
   ],
   "source": [
    "# ! killall ukb_wsd\n",
    "%set_env ACE_GRAMMAR erg.dat\n",
    "import mrs_logic\n",
    "    \n",
    "ctx = mrs_logic.get_current_context()\n",
    "ctx.options['to_ulkb']['universe_type'] = a   # set the type of the (FOL) universe to \"a\"\n",
    "ctx.options['to_ulkb']['drop_uvars'] = True   # delete \"u\" vars\n",
    "ctx.options['to_ulkb']['drop_ivars'] = True   # delete \"i\" vars\n",
    "ctx.options.to_ulkb.mk_q_exists = ['_the_q']"
   ]
  },
  {
   "cell_type": "markdown",
   "id": "4e8ed6b9-97a8-4793-9393-bafc6ed9f182",
   "metadata": {},
   "source": [
    "## Axioms"
   ]
  },
  {
   "cell_type": "code",
   "execution_count": 7,
   "id": "7ac6bf17-df3c-4162-a4c1-f73c2b408fc4",
   "metadata": {},
   "outputs": [
    {
     "name": "stdout",
     "output_type": "stream",
     "text": [
      "19\taxiom ∀ x y, (∃ e1, _be_v_id e1 x y) ↔ x = y\n",
      "20\taxiom person Agatha\n",
      "21\taxiom person Charles\n",
      "22\taxiom ∀ x, _butler_n_1 x → person x\n"
     ]
    }
   ],
   "source": [
    "reset()\n",
    "\n",
    "x, y, e1, e2 = Variables('x', 'y', 'e1', 'e2', a)\n",
    "\n",
    "Agatha    = Constant('Agatha', a)\n",
    "Charles    = Constant('Charles', a)\n",
    "Dreadbury = Constant('Dreadbury', a)\n",
    "person    = Constant('person', ab)\n",
    "_kill_v_1 = Constant('_kill_v_1', aaab)\n",
    "_in_p_dir = Constant('_in_p_dir', aaab)\n",
    "_live_v_1 = Constant('_live_v_1', aab)\n",
    "_rich_a_in = Constant('_rich_a_in', aab)\n",
    "more_comp = Constant('more_comp', aaab)\n",
    "_butler_n_1 = Constant('_butler_n_1', ab)\n",
    "_hate_v_1 = Constant('_hate_v_1', aaab)\n",
    "_be_v_id = Constant('_be_v_id', aaab)\n",
    "\n",
    "new_axiom(Forall(x, y, Iff(Exists(e1, _be_v_id(e1,x,y)), equal(x,y))))\n",
    "\n",
    "new_axiom(person(Agatha))\n",
    "new_axiom(person(Charles))\n",
    "new_axiom(Forall(x, Implies(_butler_n_1(x), person(x))))\n",
    "\n",
    "show_axioms()"
   ]
  },
  {
   "cell_type": "markdown",
   "id": "bcb6ada7-5ee5-4c85-bc43-abbd952051a8",
   "metadata": {},
   "source": [
    "## Sentence 0"
   ]
  },
  {
   "cell_type": "code",
   "execution_count": 8,
   "id": "ef9119e0-7137-40a4-b8fe-289e9440acde",
   "metadata": {},
   "outputs": [
    {
     "name": "stdout",
     "output_type": "stream",
     "text": [
      "19\taxiom ∀ x y, (∃ e1, _be_v_id e1 x y) ↔ x = y\n",
      "20\taxiom person Agatha\n",
      "21\taxiom person Charles\n",
      "22\taxiom ∀ x, _butler_n_1 x → person x\n",
      "23\taxiom Agatha = agatha\n",
      "24\taxiom ∀ x, (∃ e1 e2 y, person x ∧ _live_v_1 e1 x ∧ _in_p_dir e2 e1 y ∧ Dreadbury = y) ↔ lives x\n",
      "25\taxiom ∀ x y, (∃ e1, _kill_v_1 e1 x y) ↔ killed x y\n",
      "Someone who lives in Dreadbury killed Agatha.\n",
      "⊢ (∃ x10, Dreadbury = x10 ∧ (∃ x3, (∃ e8 e9, person x3 ∧ _live_v_1 e8 x3 ∧ _in_p_dir e9 e8 x10) ∧ (∃ x16, Agatha = x16 ∧ (∃ e2, _kill_v_1 e2 x3 x16)))) → (∃ x, lives x ∧ killed x agatha)\n"
     ]
    }
   ],
   "source": [
    "new_axiom(equal(Agatha, agatha))\n",
    "new_axiom(Forall(x, Iff(Exists(e1, e2, y, And(person(x), _live_v_1(e1, x), _in_p_dir(e2, e1, y), Equal(Dreadbury,y))), lives(x))))\n",
    "new_axiom(Forall(x, y, Iff(Exists(e1, _kill_v_1(e1, x, y)), killed(x,y))))\n",
    "show_axioms()\n",
    "\n",
    "sentence = txt[0]\n",
    "solution = next(mrs_logic.solve(sentence)) # take the first solution \n",
    "form = solution.to_ulkb()\n",
    "conjecture = Implies(form, ax0)\n",
    "print(sentence)\n",
    "try: \n",
    "    res = RuleZ3(conjecture, timeout = 30000)\n",
    "    print(res)\n",
    "except:\n",
    "    print(conjecture)\n",
    "    print(\">>> FAILED\")"
   ]
  },
  {
   "cell_type": "markdown",
   "id": "da9398f7-17ce-4dbc-b201-6d08bbdd51fe",
   "metadata": {},
   "source": [
    "## Sentence 1"
   ]
  },
  {
   "cell_type": "code",
   "execution_count": 9,
   "id": "8f76f547-b8e0-483e-a72a-f53b00080591",
   "metadata": {},
   "outputs": [
    {
     "name": "stdout",
     "output_type": "stream",
     "text": [
      "19\taxiom ∀ x y, (∃ e1, _be_v_id e1 x y) ↔ x = y\n",
      "20\taxiom person Agatha\n",
      "21\taxiom person Charles\n",
      "22\taxiom ∀ x, _butler_n_1 x → person x\n",
      "23\taxiom Agatha = agatha\n",
      "24\taxiom ∀ x, (∃ e1 e2 y, person x ∧ _live_v_1 e1 x ∧ _in_p_dir e2 e1 y ∧ Dreadbury = y) ↔ lives x\n",
      "25\taxiom ∀ x y, (∃ e1, _kill_v_1 e1 x y) ↔ killed x y\n",
      "Agatha, the butler, and Charles live in Dreadbury, and are the only people who live therein.\n",
      "(∃ x32, Dreadbury = x32 ∧ (∃ x14, (∃ x24, Charles = x24 ∧ (∃ x19, _butler_n_1 x19 ∧ _and_c x14 x19 x24)) ∧ (∃ x39, (∃ e44 e46 e47, _only_a_1 e44 x39 ∧ _people_n_of x39 ∧ _live_v_1 e46 x39 ∧ _therein_p_dir e47 e46) ∧ (∃ x3, (∃ x8, Agatha = x8 ∧ implicit_conj x3 x8 x14) ∧ (∃ e30 e31 e2 e38, _live_v_1 e30 x3 ∧ _in_p_dir e31 e30 x32 ∧ _and_c e2 e30 e38 ∧ _be_v_id e38 x3 x39))))) → (∀ x, lives x → x = agatha ∨ x = butler ∨ x = charles) : 𝔹\n",
      ">>> FAILED\n"
     ]
    }
   ],
   "source": [
    "x1, x2, x3, w, z, e = Variables('x1', 'x2', 'x3', 'w', 'z', 'e', a)\n",
    "\n",
    "_people_n_of  = Constant('_people_n_of', FunctionType(a, bool))\n",
    "implicit_conj = Constant('implicit_conj', FunctionType(a, a, a, bool))\n",
    "_and_c        = Constant('_and_c', FunctionType(a, a, a, bool))\n",
    "_only_a_1     = Constant('_only_a_1', FunctionType(a, a, bool))\n",
    "\n",
    "def pax1(p1,p2):\n",
    "    return Forall(x, y, z, Exists(x1, x2, e, \n",
    "                                  Iff(And(implicit_conj(x1, x, x2), _and_c(x2, y, z), p1(e, x1)),\n",
    "                                      Exists(w, Implies(p2(w), Or(Equal(w,x), Equal(w,y), Equal(w,z)))))))\n",
    "\n",
    "def pax1(p1,p2):\n",
    "    return Forall(x, y, z, Exists(x1, x2, e, \n",
    "                                  Iff(And(implicit_conj(x1, x, x2), _and_c(x2, y, z), p1(e, x1)),\n",
    "                                      And(p2(x), p2(y), p2(z)))))\n",
    "\n",
    "def pax2(p1,p2):\n",
    "    return Forall(x, y, z, Exists(x1, x2, e, \n",
    "                                  Iff(And(implicit_conj(x1, x, x2), _and_c(x2, y, z), p1(x1)),\n",
    "                                      And(p2(x), p2(y), p2(z)))))\n",
    "\n",
    "# new_axiom(pax1(_live_v_1,lives))\n",
    "# new_axiom(pax2(_people_n_of,person))\n",
    "show_axioms()\n",
    "\n",
    "sentence = txt[1]\n",
    "solution = next(mrs_logic.solve(sentence)) # take the first solution \n",
    "form = solution.to_ulkb()\n",
    "conjecture = Implies(form, ax1)\n",
    "print(sentence)\n",
    "try: \n",
    "    res = RuleZ3(conjecture, timeout = 30000)\n",
    "    print(res)\n",
    "except:\n",
    "    print(conjecture)\n",
    "    print(\">>> FAILED\")   "
   ]
  },
  {
   "cell_type": "markdown",
   "id": "8cde9f7d-8b67-4959-8e3e-c22cecaaba17",
   "metadata": {},
   "source": [
    "## Sentence 2"
   ]
  },
  {
   "cell_type": "code",
   "execution_count": 10,
   "id": "ba460dfa-8e3f-44c8-8170-d74cc18faf24",
   "metadata": {},
   "outputs": [
    {
     "name": "stdout",
     "output_type": "stream",
     "text": [
      "19\taxiom ∀ x y, (∃ e1, _be_v_id e1 x y) ↔ x = y\n",
      "20\taxiom person Agatha\n",
      "21\taxiom person Charles\n",
      "22\taxiom ∀ x, _butler_n_1 x → person x\n",
      "23\taxiom Agatha = agatha\n",
      "24\taxiom ∀ x, (∃ e1 e2 y, person x ∧ _live_v_1 e1 x ∧ _in_p_dir e2 e1 y ∧ Dreadbury = y) ↔ lives x\n",
      "25\taxiom ∀ x y, (∃ e1, _kill_v_1 e1 x y) ↔ killed x y\n",
      "A killer always hates his victim, and is never richer than his victim\n",
      "(∃ e2 e22 e9 x10, (∃ x16, pron x16 ∧ (∃ e15, poss e15 x10 x16 ∧ _victim_n_of x10)) ∧ (∃ x34, pron x34 ∧ (∃ x3, _killer_n_1 x3 ∧ (∃ e22, _always_a_1 e9 ∧ _hate_v_1 e9 x3 x10 ∧ _and_c e2 e9 e22 ∧ _never_a_1 e22 (∃ x28, (∃ e9 e9 e2 e33, poss e33 x28 x34 ∧ _victim_n_of x28) ∧ (∃ e25 e27, _rich_a_in e25 x3 ∧ more_comp e27 e25 x28)))))) → (∀ x y, killed x y → hates x y) ∧ (∀ x y, killed x y → ¬richer x y) : 𝔹\n",
      ">>> FAILED\n"
     ]
    }
   ],
   "source": [
    "show_axioms()\n",
    "\n",
    "sentence = txt[2]\n",
    "solution = next(mrs_logic.solve(sentence)) # take the first solution \n",
    "form = solution.to_ulkb()\n",
    "conjecture = Implies(form, And(ax21, ax22))\n",
    "print(sentence)\n",
    "try: \n",
    "    res = RuleZ3(conjecture, timeout = 30000)\n",
    "    print(res)\n",
    "except:\n",
    "    print(conjecture)\n",
    "    print(\">>> FAILED\")"
   ]
  },
  {
   "cell_type": "markdown",
   "id": "3990faff-ac95-40d0-b73c-7fcfb1e35564",
   "metadata": {},
   "source": [
    "## Sentence 3"
   ]
  },
  {
   "cell_type": "code",
   "execution_count": 11,
   "id": "9fe86d97-9f8f-47e1-8523-247279489a41",
   "metadata": {},
   "outputs": [
    {
     "name": "stdout",
     "output_type": "stream",
     "text": [
      "19\taxiom ∀ x y, (∃ e1, _be_v_id e1 x y) ↔ x = y\n",
      "20\taxiom person Agatha\n",
      "21\taxiom person Charles\n",
      "22\taxiom ∀ x, _butler_n_1 x → person x\n",
      "23\taxiom Agatha = agatha\n",
      "24\taxiom ∀ x, (∃ e1 e2 y, person x ∧ _live_v_1 e1 x ∧ _in_p_dir e2 e1 y ∧ Dreadbury = y) ↔ lives x\n",
      "25\taxiom ∀ x y, (∃ e1, _kill_v_1 e1 x y) ↔ killed x y\n",
      "26\taxiom Charles = charles\n",
      "27\taxiom ∀ x y, (∃ e1, _hate_v_1 e1 x y) ↔ hates x y\n",
      "28\taxiom ∀ x y, hates x y → person x ∧ person y\n",
      "Charles hates no one that Agatha hates.\n",
      "⊢ (∃ x15, Agatha = x15 ∧ (∃ x3, Charles = x3 ∧ (∀ x9, (∃ e20, person x9 ∧ _hate_v_1 e20 x15 x9) → ¬(∃ e2, _hate_v_1 e2 x3 x9)))) → (∀ x, hates agatha x → ¬hates charles x)\n"
     ]
    }
   ],
   "source": [
    "new_axiom(equal(Charles, charles))\n",
    "new_axiom(Forall(x, y, Iff(Exists(e1, _hate_v_1(e1,x,y)), hates(x,y))))\n",
    "new_axiom(Forall(x, y, Implies(hates(x,y), And(person(x),person(y)))))\n",
    "show_axioms()\n",
    "\n",
    "sentence = txt[3]\n",
    "solutions = list(islice(mrs_logic.solve(sentence), 10)) \n",
    "forms = [solution.to_ulkb() for solution in solutions]\n",
    "form = forms[2] # best solution \n",
    "conjecture = Implies(form, ax3)\n",
    "print(sentence)\n",
    "try: \n",
    "    res = RuleZ3(conjecture, timeout = 30000)\n",
    "    print(res)\n",
    "except:\n",
    "    print(conjecture)\n",
    "    print(\">>> FAILED\")"
   ]
  },
  {
   "cell_type": "markdown",
   "id": "94447ad6-5fca-4822-a6a7-97e87054052f",
   "metadata": {},
   "source": [
    "## Sentence 4"
   ]
  },
  {
   "cell_type": "code",
   "execution_count": 12,
   "id": "1e3da613-eb04-4457-9567-af19f911b737",
   "metadata": {},
   "outputs": [
    {
     "name": "stdout",
     "output_type": "stream",
     "text": [
      "19\taxiom ∀ x y, (∃ e1, _be_v_id e1 x y) ↔ x = y\n",
      "20\taxiom person Agatha\n",
      "21\taxiom person Charles\n",
      "22\taxiom ∀ x, _butler_n_1 x → person x\n",
      "23\taxiom Agatha = agatha\n",
      "24\taxiom ∀ x, (∃ e1 e2 y, person x ∧ _live_v_1 e1 x ∧ _in_p_dir e2 e1 y ∧ Dreadbury = y) ↔ lives x\n",
      "25\taxiom ∀ x y, (∃ e1, _kill_v_1 e1 x y) ↔ killed x y\n",
      "26\taxiom Charles = charles\n",
      "27\taxiom ∀ x y, (∃ e1, _hate_v_1 e1 x y) ↔ hates x y\n",
      "28\taxiom ∀ x y, hates x y → person x ∧ person y\n",
      "Agatha hates everyone except the butler\n",
      "(∀ x9, (∃ x15, _butler_n_1 x15 ∧ (∃ e14, person x9 ∧ _except_p e14 x9 x15)) → (∃ x3, Agatha = x3 ∧ (∃ e2, _hate_v_1 e2 x3 x9))) → (∀ x, x ≠ butler → hates agatha x) : 𝔹\n",
      ">>> FAILED\n"
     ]
    }
   ],
   "source": [
    "show_axioms()\n",
    "\n",
    "sentence = txt[4]\n",
    "solution = next(mrs_logic.solve(sentence)) # take the first solution \n",
    "form = solution.to_ulkb()\n",
    "conjecture = Implies(form, ax4)\n",
    "print(sentence)\n",
    "try: \n",
    "    res = RuleZ3(conjecture, timeout = 30000)\n",
    "    print(res)\n",
    "except:\n",
    "    print(conjecture)\n",
    "    print(\">>> FAILED\")"
   ]
  },
  {
   "cell_type": "markdown",
   "id": "0aba69aa-3b7b-4a1d-8b33-773ea60734ab",
   "metadata": {},
   "source": [
    "## Sentence 5"
   ]
  },
  {
   "cell_type": "code",
   "execution_count": 13,
   "id": "ab25ca78-953f-466d-983b-7aae9e51666f",
   "metadata": {},
   "outputs": [
    {
     "name": "stdout",
     "output_type": "stream",
     "text": [
      "19\taxiom ∀ x y, (∃ e1, _be_v_id e1 x y) ↔ x = y\n",
      "20\taxiom person Agatha\n",
      "21\taxiom person Charles\n",
      "22\taxiom ∀ x, _butler_n_1 x → person x\n",
      "23\taxiom Agatha = agatha\n",
      "24\taxiom ∀ x, (∃ e1 e2 y, person x ∧ _live_v_1 e1 x ∧ _in_p_dir e2 e1 y ∧ Dreadbury = y) ↔ lives x\n",
      "25\taxiom ∀ x y, (∃ e1, _kill_v_1 e1 x y) ↔ killed x y\n",
      "26\taxiom Charles = charles\n",
      "27\taxiom ∀ x y, (∃ e1, _hate_v_1 e1 x y) ↔ hates x y\n",
      "28\taxiom ∀ x y, hates x y → person x ∧ person y\n",
      "29\taxiom ∀ x y, (∃ e1 e2, _rich_a_in e1 x ∧ more_comp e2 e1 y) ↔ richer x y\n",
      "30\taxiom ∀ x y, ¬richer x y → person x ∧ person y\n",
      "31\taxiom ∀ x, _butler_n_1 x ↔ x = butler\n",
      "The butler hates everyone not richer than Agatha\n",
      "⊢ (∃ x19, Agatha = x19 ∧ (∀ x8, person x8 ∧ ¬(∃ e16 e18, _rich_a_in e16 x8 ∧ more_comp e18 e16 x19) → (∃ x3, _butler_n_1 x3 ∧ (∃ e2, _hate_v_1 e2 x3 x8)))) → (∀ x, ¬richer x agatha → hates butler x)\n"
     ]
    }
   ],
   "source": [
    "new_axiom(Forall(x,y, Iff(Exists(e1, e2, And(_rich_a_in(e1, x), more_comp(e2, e1, y))), richer(x,y))))\n",
    "new_axiom(Forall(x, y, Implies(Not(richer(x,y)), And(person(x),person(y)))))\n",
    "new_axiom(Forall(x, Iff(_butler_n_1(x), equal(x,butler))))\n",
    "show_axioms()\n",
    "\n",
    "sentence = txt[5]\n",
    "solutions = list(islice(mrs_logic.solve(sentence), 10)) \n",
    "forms = [solution.to_ulkb() for solution in solutions]\n",
    "form = forms[2] # best solution \n",
    "conjecture = Implies(form, ax5)\n",
    "print(sentence)\n",
    "try: \n",
    "    res = RuleZ3(conjecture, timeout = 30000)\n",
    "    print(res)\n",
    "except:\n",
    "    print(conjecture)\n",
    "    print(\">>> FAILED\")"
   ]
  },
  {
   "cell_type": "markdown",
   "id": "5dec6de3-51f1-4627-909a-b4bf526bab83",
   "metadata": {},
   "source": [
    "## Sentence 6"
   ]
  },
  {
   "cell_type": "code",
   "execution_count": 14,
   "id": "d82988ba-0748-4e89-9ed5-1ee96e993f54",
   "metadata": {},
   "outputs": [
    {
     "name": "stdout",
     "output_type": "stream",
     "text": [
      "19\taxiom ∀ x y, (∃ e1, _be_v_id e1 x y) ↔ x = y\n",
      "20\taxiom person Agatha\n",
      "21\taxiom person Charles\n",
      "22\taxiom ∀ x, _butler_n_1 x → person x\n",
      "23\taxiom Agatha = agatha\n",
      "24\taxiom ∀ x, (∃ e1 e2 y, person x ∧ _live_v_1 e1 x ∧ _in_p_dir e2 e1 y ∧ Dreadbury = y) ↔ lives x\n",
      "25\taxiom ∀ x y, (∃ e1, _kill_v_1 e1 x y) ↔ killed x y\n",
      "26\taxiom Charles = charles\n",
      "27\taxiom ∀ x y, (∃ e1, _hate_v_1 e1 x y) ↔ hates x y\n",
      "28\taxiom ∀ x y, hates x y → person x ∧ person y\n",
      "29\taxiom ∀ x y, (∃ e1 e2, _rich_a_in e1 x ∧ more_comp e2 e1 y) ↔ richer x y\n",
      "30\taxiom ∀ x y, ¬richer x y → person x ∧ person y\n",
      "31\taxiom ∀ x, _butler_n_1 x ↔ x = butler\n",
      "The butler hates everyone Agatha hates\n",
      "⊢ (∀ x8, (∃ x14, Agatha = x14 ∧ (∃ e19, person x8 ∧ _hate_v_1 e19 x14 x8)) → (∃ x3, _butler_n_1 x3 ∧ (∃ e2, _hate_v_1 e2 x3 x8))) → (∀ x, hates agatha x → hates butler x)\n"
     ]
    }
   ],
   "source": [
    "show_axioms()\n",
    "\n",
    "sentence = txt[6]\n",
    "solution = next(mrs_logic.solve(sentence)) # take the first solution \n",
    "form = solution.to_ulkb()\n",
    "conjecture = Implies(form, ax6)\n",
    "print(sentence)\n",
    "try: \n",
    "    res = RuleZ3(conjecture, timeout = 30000)\n",
    "    print(res)\n",
    "except:\n",
    "    print(conjecture)\n",
    "    print(\">>> FAILED\")"
   ]
  },
  {
   "cell_type": "markdown",
   "id": "d7a7450f-0da8-4396-8e21-a2b9d0999e81",
   "metadata": {},
   "source": [
    "## Sentence 7"
   ]
  },
  {
   "cell_type": "code",
   "execution_count": 15,
   "id": "8b7b780b-ceb1-4dc1-9de1-03999c644f53",
   "metadata": {},
   "outputs": [
    {
     "name": "stdout",
     "output_type": "stream",
     "text": [
      "19\taxiom ∀ x y, (∃ e1, _be_v_id e1 x y) ↔ x = y\n",
      "20\taxiom person Agatha\n",
      "21\taxiom person Charles\n",
      "22\taxiom ∀ x, _butler_n_1 x → person x\n",
      "23\taxiom Agatha = agatha\n",
      "24\taxiom ∀ x, (∃ e1 e2 y, person x ∧ _live_v_1 e1 x ∧ _in_p_dir e2 e1 y ∧ Dreadbury = y) ↔ lives x\n",
      "25\taxiom ∀ x y, (∃ e1, _kill_v_1 e1 x y) ↔ killed x y\n",
      "26\taxiom Charles = charles\n",
      "27\taxiom ∀ x y, (∃ e1, _hate_v_1 e1 x y) ↔ hates x y\n",
      "28\taxiom ∀ x y, hates x y → person x ∧ person y\n",
      "29\taxiom ∀ x y, (∃ e1 e2, _rich_a_in e1 x ∧ more_comp e2 e1 y) ↔ richer x y\n",
      "30\taxiom ∀ x y, ¬richer x y → person x ∧ person y\n",
      "31\taxiom ∀ x, _butler_n_1 x ↔ x = butler\n",
      "No one hates everyone\n",
      "⊢ (∀ x3, person x3 → ¬(∀ x8, person x8 → (∃ e2, _hate_v_1 e2 x3 x8))) → ¬(∃ x, ∀ y, hates x y)\n"
     ]
    }
   ],
   "source": [
    "show_axioms()\n",
    "\n",
    "sentence = txt[7]\n",
    "solutions = list(islice(mrs_logic.solve(sentence), 10)) \n",
    "forms = [solution.to_ulkb() for solution in solutions]\n",
    "form = forms[1]\n",
    "conjecture = Implies(form, ax7)\n",
    "print(sentence)\n",
    "try: \n",
    "    res = RuleZ3(conjecture, timeout = 120000)\n",
    "    print(res)\n",
    "except:\n",
    "    print(conjecture)\n",
    "    print(\">>> FAILED\")"
   ]
  },
  {
   "cell_type": "markdown",
   "id": "f8015fb1-6b59-4975-b4b9-5e440f999baf",
   "metadata": {},
   "source": [
    "## Sentence 8"
   ]
  },
  {
   "cell_type": "code",
   "execution_count": 16,
   "id": "309e6fbc-b141-4a3c-b0a4-8ce201c96430",
   "metadata": {},
   "outputs": [
    {
     "name": "stdout",
     "output_type": "stream",
     "text": [
      "19\taxiom ∀ x y, (∃ e1, _be_v_id e1 x y) ↔ x = y\n",
      "20\taxiom person Agatha\n",
      "21\taxiom person Charles\n",
      "22\taxiom ∀ x, _butler_n_1 x → person x\n",
      "23\taxiom Agatha = agatha\n",
      "24\taxiom ∀ x, (∃ e1 e2 y, person x ∧ _live_v_1 e1 x ∧ _in_p_dir e2 e1 y ∧ Dreadbury = y) ↔ lives x\n",
      "25\taxiom ∀ x y, (∃ e1, _kill_v_1 e1 x y) ↔ killed x y\n",
      "26\taxiom Charles = charles\n",
      "27\taxiom ∀ x y, (∃ e1, _hate_v_1 e1 x y) ↔ hates x y\n",
      "28\taxiom ∀ x y, hates x y → person x ∧ person y\n",
      "29\taxiom ∀ x y, (∃ e1 e2, _rich_a_in e1 x ∧ more_comp e2 e1 y) ↔ richer x y\n",
      "30\taxiom ∀ x y, ¬richer x y → person x ∧ person y\n",
      "31\taxiom ∀ x, _butler_n_1 x ↔ x = butler\n",
      "Agatha is not the butler\n",
      "⊢ ¬(∃ x10, _butler_n_1 x10 ∧ (∃ x3, Agatha = x3 ∧ (∃ e2, _be_v_id e2 x3 x10))) → agatha ≠ butler\n"
     ]
    }
   ],
   "source": [
    "show_axioms()\n",
    "\n",
    "sentence = txt[8]\n",
    "solution = next(mrs_logic.solve(sentence)) # take the first solution \n",
    "form = solution.to_ulkb()\n",
    "conjecture = Implies(form, ax8)\n",
    "print(sentence)\n",
    "try: \n",
    "    res = RuleZ3(conjecture, timeout = 30000)\n",
    "    print(res)\n",
    "except:\n",
    "    print(conjecture)\n",
    "    print(\">>> FAILED\")"
   ]
  },
  {
   "cell_type": "code",
   "execution_count": null,
   "id": "6bd73307-8b93-4f69-be3a-7708a6e195a1",
   "metadata": {},
   "outputs": [],
   "source": [
    "RuleZ3( Falsity(), timeout = 240000 )"
   ]
  },
  {
   "cell_type": "markdown",
   "id": "6c7f4b3b-a178-4e95-a652-74087ef57a7d",
   "metadata": {},
   "source": [
    "## Draft \n",
    "\n",
    "1. we can't prove sentences 1, 2, 4, 7\n",
    "\n",
    "2. Can you think in a sentence where udef_q need to be interpreted as\n",
    "\n",
    "(\\exists x, RSTR and BODY) and not (\\forall x, RSTR -> BODY)?\n",
    "\n",
    "Several examples:\n",
    "1. nonhead noun in N-N compounds: The dog owner appeared. [quantifier for \"dog\" variable]\n",
    "2. Prepositional phrases with a determinerless nominal: \"He read the book from beginning to end.\"\n",
    "3. coordination with identity: \"My friend and neighbor often helps me.\"\n"
   ]
  },
  {
   "cell_type": "code",
   "execution_count": 17,
   "id": "e7f2ee8a-2c89-43d9-838f-6ca01a4cf9f2",
   "metadata": {},
   "outputs": [
    {
     "name": "stdout",
     "output_type": "stream",
     "text": [
      "[ TOP: h0\n",
      "  INDEX: e2\n",
      "  RELS: < [ udef_q LBL: h4 ARG0: x3 RSTR: h5 BODY: h6 ]\n",
      "          [ proper_q LBL: h7 ARG0: x8 RSTR: h9 BODY: h10 ]\n",
      "          [ named LBL: h11 ARG0: x8 CARG: \"Agatha\" ]\n",
      "          [ udef_q LBL: h13 ARG0: x14 RSTR: h15 BODY: h16 ]\n",
      "          [ implicit_conj LBL: h17 ARG0: x3 ARG1: x8 ARG2: x14 ]\n",
      "          [ _the_q LBL: h18 ARG0: x19 RSTR: h20 BODY: h21 ]\n",
      "          [ _butler_n_1 LBL: h22 ARG0: x19 ]\n",
      "          [ _and_c LBL: h23 ARG0: x14 ARG1: x19 ARG2: x24 ]\n",
      "          [ proper_q LBL: h25 ARG0: x24 RSTR: h26 BODY: h27 ]\n",
      "          [ named LBL: h28 ARG0: x24 CARG: \"Charles\" ]\n",
      "          [ _live_v_1 LBL: h1 ARG0: e30 ARG1: x3 ]\n",
      "          [ _in_p_dir LBL: h1 ARG0: e31 ARG1: e30 ARG2: x32 ]\n",
      "          [ proper_q LBL: h33 ARG0: x32 RSTR: h34 BODY: h35 ]\n",
      "          [ named LBL: h36 ARG0: x32 CARG: \"Dreadbury\" ]\n",
      "          [ _and_c LBL: h1 ARG0: e2 ARG1: e30 ARG2: e38 ]\n",
      "          [ _be_v_id LBL: h1 ARG0: e38 ARG1: x3 ARG2: x39 ]\n",
      "          [ _the_q LBL: h40 ARG0: x39 RSTR: h41 BODY: h42 ]\n",
      "          [ _only_a_1 LBL: h43 ARG0: e44 ARG1: x39 ]\n",
      "          [ _people_n_of LBL: h43 ARG0: x39 ARG1: i45 ]\n",
      "          [ _live_v_1 LBL: h43 ARG0: e46 ARG1: x39 ]\n",
      "          [ _therein_p_dir LBL: h43 ARG0: e47 ARG1: e46 ] >\n",
      "  HCONS: < h0 qeq h1 h5 qeq h17 h9 qeq h11 h15 qeq h23 h20 qeq h22 h26 qeq h28 h34 qeq h36 h41 qeq h43 > ]\n",
      "(∃ x32, Dreadbury = x32 ∧ (∃ x14, (∃ x24, Charles = x24 ∧ (∃ x19, _butler_n_1 x19 ∧ _and_c x14 x19 x24)) ∧ (∃ x39, (∃ e44 e46 e47, _only_a_1 e44 x39 ∧ _people_n_of x39 ∧ _live_v_1 e46 x39 ∧ _therein_p_dir e47 e46) ∧ (∃ x3, (∃ x8, Agatha = x8 ∧ implicit_conj x3 x8 x14) ∧ (∃ e30 e31 e2 e38, _live_v_1 e30 x3 ∧ _in_p_dir e31 e30 x32 ∧ _and_c e2 e30 e38 ∧ _be_v_id e38 x3 x39))))) : 𝔹\n"
     ]
    },
    {
     "data": {
      "text/plain": [
       "frozenset({Agatha : a,\n",
       "           Charles : a,\n",
       "           Dreadbury : a,\n",
       "           _and_c : a → a → a → 𝔹,\n",
       "           _be_v_id : a → a → a → 𝔹,\n",
       "           _butler_n_1 : a → 𝔹,\n",
       "           _in_p_dir : a → a → a → 𝔹,\n",
       "           _live_v_1 : a → a → 𝔹,\n",
       "           _only_a_1 : a → a → 𝔹,\n",
       "           _people_n_of : a → 𝔹,\n",
       "           _therein_p_dir : a → a → 𝔹,\n",
       "           and : 𝔹 → 𝔹 → 𝔹,\n",
       "           equal : a → a → 𝔹,\n",
       "           exists : (a → 𝔹) → 𝔹,\n",
       "           implicit_conj : a → a → a → 𝔹})"
      ]
     },
     "execution_count": 17,
     "metadata": {},
     "output_type": "execute_result"
    }
   ],
   "source": [
    "sol = next(mrs_logic.solve(txt[1]))\n",
    "form = sol.to_ulkb()\n",
    "print(sol.mrs)\n",
    "print(form)\n",
    "form.constants"
   ]
  }
 ],
 "metadata": {
  "kernelspec": {
   "display_name": "Python 3 (ipykernel)",
   "language": "python",
   "name": "python3"
  },
  "language_info": {
   "codemirror_mode": {
    "name": "ipython",
    "version": 3
   },
   "file_extension": ".py",
   "mimetype": "text/x-python",
   "name": "python",
   "nbconvert_exporter": "python",
   "pygments_lexer": "ipython3",
   "version": "3.12.6"
  }
 },
 "nbformat": 4,
 "nbformat_minor": 5
}
