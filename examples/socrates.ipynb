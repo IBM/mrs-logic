{
 "cells": [
  {
   "cell_type": "code",
   "execution_count": 1,
   "id": "f33af94e-cdac-4c5c-9a16-186780c97542",
   "metadata": {
    "tags": []
   },
   "outputs": [
    {
     "name": "stdout",
     "output_type": "stream",
     "text": [
      "No matching processes belonging to you were found\n",
      "env: ACE_GRAMMAR=erg.dat\n"
     ]
    }
   ],
   "source": [
    "! killall ukb_wsd\n",
    "%set_env ACE_GRAMMAR erg.dat\n",
    "from mrs_logic import *\n",
    "from ulkb import *"
   ]
  },
  {
   "cell_type": "markdown",
   "id": "59b43a00-aa46-4a0c-b38e-06157af416ac",
   "metadata": {},
   "source": [
    "## The syllogism"
   ]
  },
  {
   "cell_type": "code",
   "execution_count": 2,
   "id": "0f279071-c4ea-4dc0-ac26-ed62e3fa3b13",
   "metadata": {
    "tags": []
   },
   "outputs": [],
   "source": [
    "A = next(solve('Every man is mortal.'))\n",
    "B = next(solve('Socrates is a man.'))\n",
    "C = next(solve('Socrates is mortal.'))"
   ]
  },
  {
   "cell_type": "code",
   "execution_count": 3,
   "id": "37dc8d5b-d638-413a-a33f-3c011eeafd11",
   "metadata": {
    "tags": []
   },
   "outputs": [
    {
     "name": "stdout",
     "output_type": "stream",
     "text": [
      "[ TOP: h0\n",
      "  INDEX: e2\n",
      "  RELS: < [ _every_q LBL: h4 ARG0: x3 RSTR: h5 BODY: h6 ]\n",
      "          [ _man_n_1 LBL: h7 ARG0: x3 ]\n",
      "          [ _mortal_a_1 LBL: h1 ARG0: e2 ARG1: x3 ] >\n",
      "  HCONS: < h0 qeq h1 h5 qeq h7 > ]\n",
      "================================================================================\n",
      "[ TOP: h0\n",
      "  INDEX: e2\n",
      "  RELS: < [ proper_q LBL: h4 ARG0: x3 RSTR: h5 BODY: h6 ]\n",
      "          [ named LBL: h7 ARG0: x3 CARG: \"Socrates\" ]\n",
      "          [ _be_v_id LBL: h1 ARG0: e2 ARG1: x3 ARG2: x9 ]\n",
      "          [ _a_q LBL: h10 ARG0: x9 RSTR: h11 BODY: h12 ]\n",
      "          [ _man_n_1 LBL: h13 ARG0: x9 ] >\n",
      "  HCONS: < h0 qeq h1 h5 qeq h7 h11 qeq h13 > ]\n",
      "================================================================================\n",
      "[ TOP: h0\n",
      "  INDEX: e2\n",
      "  RELS: < [ proper_q LBL: h4 ARG0: x3 RSTR: h5 BODY: h6 ]\n",
      "          [ named LBL: h7 ARG0: x3 CARG: \"Socrates\" ]\n",
      "          [ _mortal_a_1 LBL: h1 ARG0: e2 ARG1: x3 ] >\n",
      "  HCONS: < h0 qeq h1 h5 qeq h7 > ]\n"
     ]
    }
   ],
   "source": [
    "print(A.mrs, B.mrs, C.mrs, sep=f'\\n{\"=\"*80}\\n')"
   ]
  },
  {
   "cell_type": "markdown",
   "id": "4dd8ba5a-e626-4e52-85f3-567c3b873fa0",
   "metadata": {},
   "source": [
    "### Solution 1: Ignore evars and treat `_be_v_id` as equality"
   ]
  },
  {
   "cell_type": "code",
   "execution_count": 4,
   "id": "6be7f7b9-bcb3-4e05-add4-f4e1a1da713b",
   "metadata": {
    "tags": []
   },
   "outputs": [],
   "source": [
    "aty = TypeVariable('a')\n",
    "settings.serializer.ulkb.show_types = False\n",
    "settings.serializer.ulkb.show_annotations = False "
   ]
  },
  {
   "cell_type": "code",
   "execution_count": 5,
   "id": "6ff55923-1aee-4e51-9316-89c3e1641e4c",
   "metadata": {
    "tags": []
   },
   "outputs": [
    {
     "name": "stdout",
     "output_type": "stream",
     "text": [
      "(∀ (x3 : a), (_man_n_1 : a → 𝔹) (x3 : a) → (_mortal_a_1 : a → 𝔹) (x3 : a)) : 𝔹\n"
     ]
    }
   ],
   "source": [
    "PA = A.to_ulkb(universe_type=aty, drop_evars=True)\n",
    "print(PA.serialize(show_types=True))"
   ]
  },
  {
   "cell_type": "code",
   "execution_count": 6,
   "id": "5547eec3-22be-4205-bc9e-984316c2ce1e",
   "metadata": {
    "tags": []
   },
   "outputs": [
    {
     "name": "stdout",
     "output_type": "stream",
     "text": [
      "(∃ x9, _man_n_1 x9 ∧ (∃ x3, Socrates = x3 ∧ x3 = x9)) : 𝔹\n"
     ]
    }
   ],
   "source": [
    "PB = B.to_ulkb(universe_type=aty, drop_evars=True, \n",
    "               translate_quantifiers = True,\n",
    "               translate_predicates = True, mk_p_equal = ['_be_v_id'])\n",
    "print(PB)"
   ]
  },
  {
   "cell_type": "code",
   "execution_count": 19,
   "id": "d2d2f487-c9b3-4514-b808-657d5fb1ee83",
   "metadata": {
    "tags": []
   },
   "outputs": [
    {
     "name": "stdout",
     "output_type": "stream",
     "text": [
      "(∃ x3, Socrates = x3 ∧ _mortal_a_1 x3) : 𝔹\n"
     ]
    }
   ],
   "source": [
    "PC = C.to_ulkb(universe_type=aty, drop_evars=True)\n",
    "print(PC)"
   ]
  },
  {
   "cell_type": "code",
   "execution_count": 8,
   "id": "bbae910e-cecf-42d5-8e46-b108b57b3d6a",
   "metadata": {
    "tags": []
   },
   "outputs": [
    {
     "data": {
      "text/plain": [
       "⊢ (∀ x3, _man_n_1 x3 → _mortal_a_1 x3) → (∃ x9, _man_n_1 x9 ∧ (∃ x3, Socrates = x3 ∧ x3 = x9)) → (∃ x3, Socrates = x3 ∧ _mortal_a_1 x3)"
      ]
     },
     "execution_count": 8,
     "metadata": {},
     "output_type": "execute_result"
    }
   ],
   "source": [
    "RuleZ3(Implies(PA, PB, PC))"
   ]
  },
  {
   "cell_type": "markdown",
   "id": "8b290fce-bebc-413e-8748-49707a353ab1",
   "metadata": {},
   "source": [
    "### Solution 2: Handle the evars and `_be_v_id` in auxiliary axioms"
   ]
  },
  {
   "cell_type": "code",
   "execution_count": 9,
   "id": "23eea023-2e83-46ff-9980-b223840d0859",
   "metadata": {
    "tags": []
   },
   "outputs": [
    {
     "name": "stdout",
     "output_type": "stream",
     "text": [
      "(∀ x3, _man_n_1 x3 → (∃ e2, _mortal_a_1 e2 x3)) : 𝔹\n"
     ]
    }
   ],
   "source": [
    "PA = A.to_ulkb(universe_type=aty)\n",
    "print(PA)"
   ]
  },
  {
   "cell_type": "code",
   "execution_count": 10,
   "id": "0a558242-11d6-4d08-8fe9-5aa1a07adaee",
   "metadata": {
    "tags": []
   },
   "outputs": [
    {
     "name": "stdout",
     "output_type": "stream",
     "text": [
      "(∃ x9, _man_n_1 x9 ∧ (∃ x3, Socrates = x3 ∧ (∃ e2, _be_v_id e2 x3 x9))) : 𝔹\n"
     ]
    }
   ],
   "source": [
    "PB = B.to_ulkb(universe_type=aty)\n",
    "print(PB)"
   ]
  },
  {
   "cell_type": "code",
   "execution_count": 11,
   "id": "65f94995-5a85-4974-ae3a-1e6bc0e82a88",
   "metadata": {
    "tags": []
   },
   "outputs": [
    {
     "name": "stdout",
     "output_type": "stream",
     "text": [
      "(∃ x3, Socrates = x3 ∧ (∃ e2, _mortal_a_1 e2 x3)) : 𝔹\n"
     ]
    }
   ],
   "source": [
    "PC = C.to_ulkb(universe_type=aty)\n",
    "print(PC)"
   ]
  },
  {
   "cell_type": "code",
   "execution_count": 12,
   "id": "ebd5d0ce-082a-47ed-a638-264a6af2ea83",
   "metadata": {
    "tags": []
   },
   "outputs": [
    {
     "name": "stdout",
     "output_type": "stream",
     "text": [
      "19\taxiom ax_PA ≔ ∀ x3, _man_n_1 x3 → (∃ e2, _mortal_a_1 e2 x3)\n",
      "20\taxiom ax_PB ≔ ∃ x9, _man_n_1 x9 ∧ (∃ x3, Socrates = x3 ∧ (∃ e2, _be_v_id e2 x3 x9))\n"
     ]
    }
   ],
   "source": [
    "new_axiom('ax_PA', PA)\n",
    "new_axiom('ax_PB', PB)\n",
    "show_axioms()"
   ]
  },
  {
   "cell_type": "code",
   "execution_count": 13,
   "id": "1601e1ff-817e-477f-81b1-967fb4560bfc",
   "metadata": {
    "tags": []
   },
   "outputs": [],
   "source": [
    "_be_v_id = new_constant('_be_v_id', FunctionType(aty, aty, aty, bool))"
   ]
  },
  {
   "cell_type": "code",
   "execution_count": 14,
   "id": "c4955f4c-bd86-4d6f-bc8c-7334f25edfef",
   "metadata": {
    "tags": []
   },
   "outputs": [
    {
     "name": "stdout",
     "output_type": "stream",
     "text": [
      "19\taxiom ax_PA ≔ ∀ x3, _man_n_1 x3 → (∃ e2, _mortal_a_1 e2 x3)\n",
      "20\taxiom ax_PB ≔ ∃ x9, _man_n_1 x9 ∧ (∃ x3, Socrates = x3 ∧ (∃ e2, _be_v_id e2 x3 x9))\n",
      "22\taxiom ax__be_v_id ≔ ∀ ei x y, _be_v_id ei x y → x = y\n"
     ]
    }
   ],
   "source": [
    "ei, ej, x, y = Variables('ei', 'ej', 'x', 'y', aty)\n",
    "new_axiom('ax__be_v_id', Forall(ei, x, y, Implies(_be_v_id(ei, x, y), Equal(x, y))))\n",
    "show_axioms()"
   ]
  },
  {
   "cell_type": "code",
   "execution_count": 15,
   "id": "c0b34974-c06d-4006-a481-81f5bff3e0da",
   "metadata": {
    "tags": []
   },
   "outputs": [
    {
     "data": {
      "text/plain": [
       "⊢ ∃ x3, Socrates = x3 ∧ (∃ e2, _mortal_a_1 e2 x3)"
      ]
     },
     "execution_count": 15,
     "metadata": {},
     "output_type": "execute_result"
    }
   ],
   "source": [
    "RuleZ3(PC)"
   ]
  },
  {
   "cell_type": "code",
   "execution_count": null,
   "id": "fb771091-50db-4eee-8653-c2dd9c463400",
   "metadata": {},
   "outputs": [],
   "source": []
  }
 ],
 "metadata": {
  "kernelspec": {
   "display_name": "Python 3 (ipykernel)",
   "language": "python",
   "name": "python3"
  },
  "language_info": {
   "codemirror_mode": {
    "name": "ipython",
    "version": 3
   },
   "file_extension": ".py",
   "mimetype": "text/x-python",
   "name": "python",
   "nbconvert_exporter": "python",
   "pygments_lexer": "ipython3",
   "version": "3.12.4"
  }
 },
 "nbformat": 4,
 "nbformat_minor": 5
}
