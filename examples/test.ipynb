{
 "cells": [
  {
   "cell_type": "code",
   "execution_count": 1,
   "id": "607a52b7-f3f4-4afe-97e0-9266fdee878d",
   "metadata": {},
   "outputs": [
    {
     "name": "stdout",
     "output_type": "stream",
     "text": [
      "env: ACE_GRAMMAR=erg.dat\n"
     ]
    }
   ],
   "source": [
    "from ulkb import *   # import ULKB Logic namespace\n",
    "settings.serializer.ulkb.ensure_ascii = False\n",
    "\n",
    "a = TypeVariable('a') # a : *\n",
    "\n",
    "%set_env ACE_GRAMMAR erg.dat\n",
    "\n",
    "import mrs_logic\n",
    "\n",
    "ctx = mrs_logic.get_current_context()\n",
    "ctx.options['to_ulkb']['universe_type'] = a   # set the type of the (FOL) universe to \"a\"\n",
    "ctx.options['to_ulkb']['drop_uvars'] = True   # delete \"u\" vars\n",
    "ctx.options['to_ulkb']['drop_ivars'] = True   # delete \"i\" vars\n",
    "ctx.options.to_ulkb.mk_q_exists = ['_the_q']\n",
    "ctx.options.to_ulkb.mk_q_forall = ['udef_q']\n",
    "\n",
    "from delphin import itsdb, mrs\n",
    "from delphin.codecs import simplemrs, mrx, mrsprolog\n",
    "import tree_algorithm"
   ]
  },
  {
   "cell_type": "code",
   "execution_count": 2,
   "id": "0e5afa61-8933-459b-86dd-86586b9999c1",
   "metadata": {},
   "outputs": [
    {
     "name": "stdout",
     "output_type": "stream",
     "text": [
      "('h1', {'h4': [<EP object (h4:_the_q(ARG0 x3, RSTR h5, BODY h6)) at 4445427584>], 'h7': [<EP object (h7:_cat_n_1(ARG0 x3)) at 4445426432>], 'h1': [<EP object (h1:_white_a_1(ARG0 e2, ARG1 x3)) at 4445422400>]})\n"
     ]
    },
    {
     "data": {
      "text/plain": [
       "(∃ x3, _cat_n_1 x3 ∧ (∃ e2, _white_a_1 e2 x3)) : 𝔹"
      ]
     },
     "execution_count": 2,
     "metadata": {},
     "output_type": "execute_result"
    }
   ],
   "source": [
    "sentences = ['let us go to the store.', 'I am going to store, lets go.']\n",
    "sentences = ['Every child sings.', 'All the children sing.','All children sing.',\n",
    "             'Some children sing.','Some children sing.', 'Children sing.','The child sings.']\n",
    "sentences = ['My friend and neighbor often helps me.',\n",
    "             'it is not the case that every representative of a company saw a sample.']\n",
    "sentences = ['every dog that barks is happy','every dog that is happy barks']\n",
    "sentences = ['John and Mary are carrying a piano']\n",
    "sentences = ['Charles hates no one that Agatha hates.'] \n",
    "txt = \"The cat is white.\"\n",
    "\n",
    "sol = mrs_logic.solve1(txt)\n",
    "res = sol.to_ulkb()\n",
    "res"
   ]
  },
  {
   "cell_type": "code",
   "execution_count": null,
   "id": "223fdb71-fb6a-4e15-821e-e5be1f9ca5d3",
   "metadata": {},
   "outputs": [],
   "source": [
    "# https://pypi.org/project/fastcoref/\n",
    "\n",
    "from fastcoref import FCoref\n",
    "\n",
    "model = FCoref()\n",
    "\n",
    "txt = ['Someone who lives in Dreadbury killed Agatha.',\n",
    "       'Agatha, the butler, and Charles live in Dreadbury, and are the only people who live therein.',\n",
    "       'A killer always hates his victim, and is never richer than his victim',\n",
    "       'Charles hates no one that Aunt Agatha hates.',\n",
    "       'Agatha hates everyone except the butler',\n",
    "       'The butler hates everyone not richer than Aunt Agatha',\n",
    "       'The butler hates everyone Aunt Agatha hates',\n",
    "       'No one hates everyone',\n",
    "       'Agatha is not the butler']\n",
    "\n",
    "preds = model.predict(texts= txt)\n",
    "preds"
   ]
  },
  {
   "cell_type": "code",
   "execution_count": null,
   "id": "06e14ffc-9f7a-4e6c-a20a-b272dcc4481f",
   "metadata": {},
   "outputs": [],
   "source": [
    "from fastcoref import spacy_component\n",
    "import spacy\n",
    "\n",
    "text = 'The nurse notified the patient that his shift would be ending in an hour.'\n",
    "\n",
    "nlp = spacy.load(\"en_core_web_sm\")\n",
    "nlp.add_pipe(\"fastcoref\")\n",
    "\n",
    "doc = nlp(text)\n",
    "for cluster in doc._.coref_clusters:\n",
    "    for a,b in cluster:\n",
    "        print(text[a:b])"
   ]
  },
  {
   "cell_type": "code",
   "execution_count": null,
   "id": "bd4684c8-3af9-4388-a314-336ae9f7f072",
   "metadata": {},
   "outputs": [],
   "source": [
    "res = []\n",
    "for m in open(\"ws201.txt\"):\n",
    "    mrs = simplemrs.decode(m)\n",
    "    try:\n",
    "        s = mrs_logic.Solver(mrs)\n",
    "        res.append(s.count_solutions())\n",
    "    except:\n",
    "        continue\n",
    "print(res)"
   ]
  },
  {
   "cell_type": "code",
   "execution_count": null,
   "id": "b81f0182-02a8-497c-9c1c-4a9d4020c819",
   "metadata": {},
   "outputs": [],
   "source": [
    "from delphin import itsdb, mrs\n",
    "from delphin.codecs import simplemrs, mrx, mrsprolog\n",
    "import tree_algorithm\n",
    "\n",
    "sentences = ['Every child sings.', 'All the children sing.','All children sing.',\n",
    "             'Some children sing.','Some children sing.',\n",
    "             'Children sing.','The child sings.']\n",
    "sentences = ['My friend and neighbor often helps me.']\n",
    "sentences = ['dogs that bark are happy','dogs that are happy barks']\n",
    "\n",
    "res, ers = [], []\n",
    "for txt in sentences:\n",
    "    for i,mrs in enumerate(mrs_logic.parse(txt)):\n",
    "        solver = mrs_logic.Solver(mrs)\n",
    "        with open(f\"{i}.mrs.pl\", \"w\") as fp:\n",
    "            print(mrsprolog.encode(mrs, indent=True), file = fp)\n",
    "        n = solver.count_solutions()\n",
    "        print(f\"reading:{i} solutions:{n}\")\n",
    "        for sol in solver.iterate_solutions():\n",
    "            res = sol.to_ulkb()\n",
    "            print(res.serialize(show_types=False))"
   ]
  }
 ],
 "metadata": {
  "kernelspec": {
   "display_name": "Python 3 (ipykernel)",
   "language": "python",
   "name": "python3"
  },
  "language_info": {
   "codemirror_mode": {
    "name": "ipython",
    "version": 3
   },
   "file_extension": ".py",
   "mimetype": "text/x-python",
   "name": "python",
   "nbconvert_exporter": "python",
   "pygments_lexer": "ipython3",
   "version": "3.12.6"
  }
 },
 "nbformat": 4,
 "nbformat_minor": 5
}
