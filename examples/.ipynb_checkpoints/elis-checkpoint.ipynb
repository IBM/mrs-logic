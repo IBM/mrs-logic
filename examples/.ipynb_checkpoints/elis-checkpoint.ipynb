{
 "cells": [
  {
   "cell_type": "markdown",
   "id": "3d61bb9b-486b-4f5f-b27f-217d9372a221",
   "metadata": {},
   "source": [
    "# Overview"
   ]
  },
  {
   "cell_type": "code",
   "execution_count": 1,
   "id": "ce94b8d6-8d58-4b8a-b6f1-efe6a5ca7775",
   "metadata": {},
   "outputs": [],
   "source": [
    "from ulkb import *                   # import ULKB Logic namespace\n",
    "settings.serializer.ulkb.ensure_ascii = True"
   ]
  },
  {
   "cell_type": "markdown",
   "id": "166e6788-4453-4cb1-ba82-90d25c905769",
   "metadata": {},
   "source": [
    "## Types"
   ]
  },
  {
   "cell_type": "code",
   "execution_count": 2,
   "id": "847daae3-37c3-48ec-a304-7dacc865ff9e",
   "metadata": {},
   "outputs": [
    {
     "name": "stdout",
     "output_type": "stream",
     "text": [
      "int : *\n"
     ]
    }
   ],
   "source": [
    "from ulkb import *                   # import ULKB Logic namespace\n",
    "int_tc = TypeConstructor('int', 0)   # create the int t.c.\n",
    "int_ty = TypeApplication(int_tc)     # create the int type\n",
    "print(int_ty)                        # \": *\" means \"is a type\""
   ]
  },
  {
   "cell_type": "code",
   "execution_count": 3,
   "id": "63627386-5233-40e7-b449-72269af15e31",
   "metadata": {},
   "outputs": [
    {
     "name": "stdout",
     "output_type": "stream",
     "text": [
      "list int : *\n"
     ]
    }
   ],
   "source": [
    "list_tc = TypeConstructor('list', 1) # create the list t.c.\n",
    "list_int_ty = list_tc(int_ty)        # create the (list int) type\n",
    "print(list_int_ty)"
   ]
  },
  {
   "cell_type": "markdown",
   "id": "8cd4bb53-5241-420a-a72d-a0bc0cc447a6",
   "metadata": {},
   "source": [
    "## Terms"
   ]
  },
  {
   "cell_type": "code",
   "execution_count": 4,
   "id": "6552168b-59d2-4c7f-94cb-b56956074f9e",
   "metadata": {},
   "outputs": [
    {
     "name": "stdout",
     "output_type": "stream",
     "text": [
      "(fun x => x) : a -> a\n"
     ]
    }
   ],
   "source": [
    "a = TypeVariable('a')       # create (a : *)\n",
    "k = Constant('k', a)        # create (k : a)\n",
    "x = Variable('x', a)        # create (x : a)\n",
    "id_ = Abstraction(x, x)     # create the identity function\n",
    "print(id_)"
   ]
  },
  {
   "cell_type": "code",
   "execution_count": 5,
   "id": "b2c697c1-84ca-4c8b-b203-d0a48d2188bb",
   "metadata": {},
   "outputs": [
    {
     "name": "stdout",
     "output_type": "stream",
     "text": [
      "(fun x => x) k : a\n"
     ]
    }
   ],
   "source": [
    "print(Application(id_, k))  # create the app. of id_ to k"
   ]
  },
  {
   "cell_type": "code",
   "execution_count": 6,
   "id": "577232e7-f6dd-4e5c-8344-a7b6871557db",
   "metadata": {},
   "outputs": [
    {
     "name": "stdout",
     "output_type": "stream",
     "text": [
      "(fun x => x) : a -> a\n"
     ]
    }
   ],
   "source": [
    "id_ = (x >> x)\n",
    "print(id_)"
   ]
  },
  {
   "cell_type": "code",
   "execution_count": 7,
   "id": "a656343b-63e8-437e-b058-797ea61c6642",
   "metadata": {},
   "outputs": [
    {
     "name": "stdout",
     "output_type": "stream",
     "text": [
      "(fun x => x) k : a\n"
     ]
    }
   ],
   "source": [
    "print(id_(k))"
   ]
  },
  {
   "cell_type": "markdown",
   "id": "cb94e39f-9244-4cd2-ad2f-cc8993bd106f",
   "metadata": {},
   "source": [
    "## Deductive system"
   ]
  },
  {
   "cell_type": "code",
   "execution_count": 8,
   "id": "4b440fca-6717-41f2-b8c8-cd89396135bf",
   "metadata": {},
   "outputs": [
    {
     "name": "stdout",
     "output_type": "stream",
     "text": [
      "|- (fun x => x) k = k\n"
     ]
    }
   ],
   "source": [
    "print(BetaConv(id_(k)))"
   ]
  },
  {
   "cell_type": "code",
   "execution_count": 9,
   "id": "3093c9f6-e323-4417-87b1-8c4ff35614ef",
   "metadata": {},
   "outputs": [
    {
     "name": "stdout",
     "output_type": "stream",
     "text": [
      "True\n"
     ]
    }
   ],
   "source": [
    "x, y = Variables('x', 'y', a)\n",
    "print((x >> x) == (y >> y))"
   ]
  },
  {
   "cell_type": "markdown",
   "id": "62156ee3-3da8-4b65-a7d9-fdfe85b9cd49",
   "metadata": {},
   "source": [
    "## Logical constants"
   ]
  },
  {
   "cell_type": "code",
   "execution_count": 10,
   "id": "32becb4c-0157-42f5-ac1c-1729f89768ec",
   "metadata": {},
   "outputs": [
    {
     "name": "stdout",
     "output_type": "stream",
     "text": [
      "equal (fun x => x) : (a -> a) -> bool\n"
     ]
    }
   ],
   "source": [
    "print(equal(id_))"
   ]
  },
  {
   "cell_type": "code",
   "execution_count": 11,
   "id": "39dcd75b-adec-4917-b67f-09cb928f7c78",
   "metadata": {},
   "outputs": [
    {
     "name": "stdout",
     "output_type": "stream",
     "text": [
      "4\tdefinition (true : bool) := (fun p => p) = (fun p => p)\n"
     ]
    }
   ],
   "source": [
    "show_definitions(offset=0, id='true')"
   ]
  },
  {
   "cell_type": "code",
   "execution_count": 12,
   "id": "92f31ce7-9f6b-4edc-936d-48a5facfa242",
   "metadata": {},
   "outputs": [
    {
     "name": "stdout",
     "output_type": "stream",
     "text": [
      "|- true <-> (fun p => p) = (fun p => p)\n"
     ]
    }
   ],
   "source": [
    "def_true = lookup_definition('true')\n",
    "print(def_true)"
   ]
  },
  {
   "cell_type": "code",
   "execution_count": 13,
   "id": "1f818a63-1409-462b-a284-32cd379232f7",
   "metadata": {},
   "outputs": [
    {
     "name": "stdout",
     "output_type": "stream",
     "text": [
      "|- true\n"
     ]
    }
   ],
   "source": [
    "x = Variable('x', BoolType())\n",
    "print(RuleEqMP(RuleSym(def_true), RuleRefl(x >> x)))"
   ]
  },
  {
   "cell_type": "code",
   "execution_count": 14,
   "id": "1184538b-c2a0-41de-95db-7f9ce89193fd",
   "metadata": {},
   "outputs": [
    {
     "name": "stdout",
     "output_type": "stream",
     "text": [
      "(forall x y, x = y) : bool\n"
     ]
    }
   ],
   "source": [
    "x, y = Variables('x', 'y', a)\n",
    "print(forall(Abstraction(x, forall(Abstraction(y, equal(x, y))))))"
   ]
  },
  {
   "cell_type": "code",
   "execution_count": 15,
   "id": "0030b53e-f352-4bf0-9dac-1aeb950eb842",
   "metadata": {},
   "outputs": [
    {
     "name": "stdout",
     "output_type": "stream",
     "text": [
      "(forall x y, x = y) : bool\n"
     ]
    }
   ],
   "source": [
    "print(Forall(x, y, Equal(x, y)))"
   ]
  },
  {
   "cell_type": "markdown",
   "id": "a82b319f-905b-4165-a1f2-bea608676151",
   "metadata": {},
   "source": [
    "## Graph API"
   ]
  },
  {
   "cell_type": "code",
   "execution_count": 16,
   "id": "db6920b8-2f88-4a7b-ba8e-7c9292594a75",
   "metadata": {},
   "outputs": [],
   "source": [
    "settings.graph.uri = 'https://query.wikidata.org/sparql'\n",
    "settings.graph.namespaces = { # Wikidata SPARQL prefixes\n",
    "   'wd': 'http://www.wikidata.org/entity/',\n",
    "   'wdt': 'http://www.wikidata.org/prop/direct/'}"
   ]
  },
  {
   "cell_type": "code",
   "execution_count": 17,
   "id": "2b2d657b-0516-4147-8009-ace6568a3d81",
   "metadata": {},
   "outputs": [],
   "source": [
    "a             = TypeVariable('a') # a : *\n",
    "actor         = new_constant('wd:Q33999', a, label='actor')\n",
    "blond_hair    = new_constant('wd:Q202466', a, label='blond hair')\n",
    "female        = new_constant('wd:Q6581072', a, label='female')\n",
    "Porto_Alegre  = new_constant('wd:Q40269', a, label='Porto Alegre')\n",
    "singer        = new_constant('wd:Q177220', a, label='singer')\n",
    "\n",
    "aab           = FunctionType(a, a, BoolType()) # a -> a -> bool : *\n",
    "date_of_death = new_constant('wdt:P570', aab, label='date of death')\n",
    "gender        = new_constant('wdt:P21', aab, label='gender')\n",
    "hair_color    = new_constant('wdt:P1884', aab, label='hair color')\n",
    "occupation    = new_constant('wdt:P106', aab, label='occupation')\n",
    "place_of_birth= new_constant('wdt:P19', aab, label='place of birth')"
   ]
  },
  {
   "cell_type": "code",
   "execution_count": 18,
   "id": "2ae9cddf-3b22-4466-bcfe-53dfdc8fd897",
   "metadata": {},
   "outputs": [
    {
     "name": "stdout",
     "output_type": "stream",
     "text": [
      "<gender> x <female> and <place of birth> x <Porto Alegre> and (<occupation> x <singer> or <occupation> x <actor>) and not <hair color> x <blond hair> and (exists y, <date of death> x y) : bool\n"
     ]
    }
   ],
   "source": [
    "x, y = Variables('x', 'y', a)\n",
    "q = And(gender(x, female), place_of_birth(x, Porto_Alegre),\n",
    "        Or(occupation(x, singer), occupation(x, actor)),\n",
    "        Not(hair_color(x, blond_hair)),\n",
    "        Exists(y, date_of_death(x, y)))\n",
    "print(q)"
   ]
  },
  {
   "cell_type": "code",
   "execution_count": 19,
   "id": "a714a12a-f068-465d-b1ed-9927b49bcee2",
   "metadata": {},
   "outputs": [],
   "source": [
    "for f in graph.construct(q, q, limit=10):\n",
    "    new_axiom(f)"
   ]
  },
  {
   "cell_type": "code",
   "execution_count": 20,
   "id": "4de86fb2-ea58-4ef5-b45d-1e6dbd2a8e29",
   "metadata": {},
   "outputs": [
    {
     "name": "stdout",
     "output_type": "stream",
     "text": [
      "29\taxiom <gender> <L\\xedlian Lemmertz> <female> and <place of birth> <L\\xedlian Lemmertz> <Porto Alegre> and (<occupation> <L\\xedlian Lemmertz> <singer> or <occupation> <L\\xedlian Lemmertz> <actor>) and not <hair color> <L\\xedlian Lemmertz> <blond hair> and (exists y, <date of death> <L\\xedlian Lemmertz> y)\n",
      "30\taxiom <gender> <Regina Vianna> <female> and <place of birth> <Regina Vianna> <Porto Alegre> and (<occupation> <Regina Vianna> <singer> or <occupation> <Regina Vianna> <actor>) and not <hair color> <Regina Vianna> <blond hair> and (exists y, <date of death> <Regina Vianna> y)\n",
      "31\taxiom <gender> <Abigail Maia> <female> and <place of birth> <Abigail Maia> <Porto Alegre> and (<occupation> <Abigail Maia> <singer> or <occupation> <Abigail Maia> <actor>) and not <hair color> <Abigail Maia> <blond hair> and (exists y, <date of death> <Abigail Maia> y)\n",
      "32\taxiom <gender> <Ema D'\\xc1vila> <female> and <place of birth> <Ema D'\\xc1vila> <Porto Alegre> and (<occupation> <Ema D'\\xc1vila> <singer> or <occupation> <Ema D'\\xc1vila> <actor>) and not <hair color> <Ema D'\\xc1vila> <blond hair> and (exists y, <date of death> <Ema D'\\xc1vila> y)\n",
      "33\taxiom <gender> <Elis Regina> <female> and <place of birth> <Elis Regina> <Porto Alegre> and (<occupation> <Elis Regina> <singer> or <occupation> <Elis Regina> <actor>) and not <hair color> <Elis Regina> <blond hair> and (exists y, <date of death> <Elis Regina> y)\n",
      "34\taxiom <gender> <Norah Fontes> <female> and <place of birth> <Norah Fontes> <Porto Alegre> and (<occupation> <Norah Fontes> <singer> or <occupation> <Norah Fontes> <actor>) and not <hair color> <Norah Fontes> <blond hair> and (exists y, <date of death> <Norah Fontes> y)\n"
     ]
    }
   ],
   "source": [
    "show_axioms()"
   ]
  },
  {
   "cell_type": "code",
   "execution_count": 21,
   "id": "09fc14ac-e9c1-4d63-98ef-2cf5f2a3ba33",
   "metadata": {},
   "outputs": [
    {
     "name": "stdout",
     "output_type": "stream",
     "text": [
      "|- <place of birth> <Elis Regina> <Porto Alegre>\n"
     ]
    }
   ],
   "source": [
    "Elis_Regina = Constant('wd:Q465877', a, label='Elis Regina')\n",
    "print(RuleZ3(place_of_birth(Elis_Regina, Porto_Alegre)))"
   ]
  },
  {
   "cell_type": "code",
   "execution_count": 22,
   "id": "7b2016ad-1f2d-4a25-829c-2dd8d1ea45c8",
   "metadata": {},
   "outputs": [
    {
     "name": "stdout",
     "output_type": "stream",
     "text": [
      "RuleZ3: failed to prove '<place of birth> <Elis Regina> <Brazil> : bool'\n"
     ]
    }
   ],
   "source": [
    "Brazil = Constant('wd:Q155', a, label='Brazil')\n",
    "try:\n",
    "    print(RuleZ3(place_of_birth(Elis_Regina, Brazil)))\n",
    "except RuleError as err:\n",
    "    print(err)"
   ]
  },
  {
   "cell_type": "code",
   "execution_count": 23,
   "id": "b91b3565-9c85-493f-8f3a-26e40ba44549",
   "metadata": {},
   "outputs": [],
   "source": [
    "#for f in graph.paths(Porto_Alegre, x, length=1, limit=200):\n",
    "#    new_axiom(f)"
   ]
  },
  {
   "cell_type": "code",
   "execution_count": 24,
   "id": "b02469e5-ff61-4ef4-a5a3-4ea4863ce6f7",
   "metadata": {},
   "outputs": [],
   "source": [
    "#show_axioms(offset=163, limit=3)"
   ]
  },
  {
   "cell_type": "code",
   "execution_count": 25,
   "id": "fd02d652-394f-421b-84f4-e418282776d8",
   "metadata": {},
   "outputs": [],
   "source": [
    "#country = Constant('wdt:P17', aab, label='country')\n",
    "#x, y, z = Variables('x', 'y', 'z', a)\n",
    "#ax = new_axiom(Forall(x, y, z, Implies(\n",
    "#    place_of_birth(x, y), country(y, z), place_of_birth(x, z))))\n",
    "#print(ax)"
   ]
  },
  {
   "cell_type": "code",
   "execution_count": 50,
   "id": "f67e0d2d-3d30-4294-ae52-694766723918",
   "metadata": {},
   "outputs": [],
   "source": [
    "#thm = RuleZ3(place_of_birth(Elis_Regina, Brazil))\n",
    "#print(new_theorem(thm))"
   ]
  },
  {
   "cell_type": "code",
   "execution_count": 45,
   "id": "53701b22-dcc7-49ad-a976-ff6c6e975212",
   "metadata": {},
   "outputs": [],
   "source": [
    "# show_theorems()"
   ]
  },
  {
   "cell_type": "markdown",
   "id": "b25fdb7e-f002-4464-8f71-cccebbaea221",
   "metadata": {},
   "source": [
    "## MRS Logic"
   ]
  },
  {
   "cell_type": "code",
   "execution_count": 23,
   "id": "a0781aed-65d6-4429-823f-baa553de9db0",
   "metadata": {},
   "outputs": [
    {
     "name": "stdout",
     "output_type": "stream",
     "text": [
      "No matching processes belonging to you were found\n",
      "env: ACE_GRAMMAR=../../erg.dat\n"
     ]
    }
   ],
   "source": [
    "! killall ukb_wsd\n",
    "%set_env ACE_GRAMMAR ../../erg.dat\n",
    "import mrs_logic"
   ]
  },
  {
   "cell_type": "code",
   "execution_count": 24,
   "id": "4264bf93-4cb3-4d60-859e-e6439e93decb",
   "metadata": {},
   "outputs": [],
   "source": [
    "ctx = mrs_logic.get_current_context()\n",
    "ctx.options['to_ulkb']['universe_type'] = a   # set the type of the (FOL) universe to \"a\"\n",
    "ctx.options['to_ulkb']['drop_uvars'] = True   # delete \"u\" vars"
   ]
  },
  {
   "cell_type": "markdown",
   "id": "4d1ad14d-8fa9-472f-a0e2-cd826d05bca5",
   "metadata": {},
   "source": [
    "From text to logic:"
   ]
  },
  {
   "cell_type": "code",
   "execution_count": 25,
   "id": "7a612a03-8eec-4d9c-8d4b-7356b189ff8b",
   "metadata": {},
   "outputs": [
    {
     "name": "stdout",
     "output_type": "stream",
     "text": [
      "[ TOP: h0\n",
      "  INDEX: e2\n",
      "  RELS: < [ proper_q LBL: h4 ARG0: x3 RSTR: h5 BODY: h6 ]\n",
      "          [ named LBL: h7 ARG0: x3 CARG: \"ER\" ]\n",
      "          [ _bear_v_2 LBL: h1 ARG0: e2 ARG1: u9 ARG2: x3 ]\n",
      "          [ _in_p_state LBL: h1 ARG0: e10 ARG1: e2 ARG2: x11 ]\n",
      "          [ proper_q LBL: h12 ARG0: x11 RSTR: h13 BODY: h14 ]\n",
      "          [ named LBL: h15 ARG0: x11 CARG: \"POA\" ] >\n",
      "  HCONS: < h0 qeq h1 h5 qeq h7 h13 qeq h15 > ]\n"
     ]
    }
   ],
   "source": [
    "sol = next(mrs_logic.solve('ER was born in POA'))   # get the first solution\n",
    "print(sol.mrs)"
   ]
  },
  {
   "cell_type": "code",
   "execution_count": 26,
   "id": "e94bf19c-ac30-41b4-9701-b631f17b87e8",
   "metadata": {},
   "outputs": [
    {
     "name": "stdout",
     "output_type": "stream",
     "text": [
      "(exists x11, POA = x11 and (exists x3, ER = x3 and (exists e2 e10, _bear_v_2 e2 x3 and _in_p_state e10 e2 x11))) : bool\n"
     ]
    }
   ],
   "source": [
    "form = sol.to_ulkb()\n",
    "print(form)"
   ]
  },
  {
   "cell_type": "code",
   "execution_count": 27,
   "id": "0c84fef5-c37e-4d83-946e-f38d98015848",
   "metadata": {},
   "outputs": [
    {
     "data": {
      "text/plain": [
       "frozenset({ER : a,\n",
       "           POA : a,\n",
       "           _bear_v_2 : a -> a -> bool,\n",
       "           _in_p_state : a -> a -> a -> bool,\n",
       "           and : bool -> bool -> bool,\n",
       "           equal : a -> a -> bool,\n",
       "           exists : (a -> bool) -> bool})"
      ]
     },
     "execution_count": 27,
     "metadata": {},
     "output_type": "execute_result"
    }
   ],
   "source": [
    "form.constants"
   ]
  },
  {
   "cell_type": "markdown",
   "id": "d925fc34-cdec-4f27-abf5-e275a2d75ae5",
   "metadata": {},
   "source": [
    "## From the semantic representation to the target vocabulary"
   ]
  },
  {
   "cell_type": "markdown",
   "id": "04a15821-8aa9-41a7-b39b-5455349688cb",
   "metadata": {},
   "source": [
    "### (1) ER was born in POA"
   ]
  },
  {
   "cell_type": "code",
   "execution_count": 28,
   "id": "d6004156-7fe9-40d0-aa3c-8c4a88814901",
   "metadata": {},
   "outputs": [
    {
     "data": {
      "text/plain": [
       "|- ER = <Elis Regina>"
      ]
     },
     "execution_count": 28,
     "metadata": {},
     "output_type": "execute_result"
    }
   ],
   "source": [
    "ER = Constant('ER', a)\n",
    "new_axiom(equal(ER, Elis_Regina))"
   ]
  },
  {
   "cell_type": "code",
   "execution_count": 29,
   "id": "2fa85653-0761-4be3-a973-436bedd9254f",
   "metadata": {},
   "outputs": [
    {
     "data": {
      "text/plain": [
       "|- POA = <Porto Alegre>"
      ]
     },
     "execution_count": 29,
     "metadata": {},
     "output_type": "execute_result"
    }
   ],
   "source": [
    "POA = Constant('POA', a)\n",
    "new_axiom(equal(POA, Porto_Alegre))"
   ]
  },
  {
   "cell_type": "code",
   "execution_count": 30,
   "id": "2601e01a-39cf-493f-a2d0-8938f87229d7",
   "metadata": {},
   "outputs": [],
   "source": [
    "x, y, e1, e2 = Variables('x', 'y', 'e1', 'e2', a)\n",
    "\n",
    "_bear_v_2 = Constant('_bear_v_2', FunctionType(a, a, bool))\n",
    "_in_p_state = Constant('_in_p_state', FunctionType(a, a, a, bool))"
   ]
  },
  {
   "cell_type": "code",
   "execution_count": 31,
   "id": "14d3f6c9-15fc-4318-864d-86e2370dace0",
   "metadata": {},
   "outputs": [
    {
     "data": {
      "text/plain": [
       "|- forall x y, (exists e1 e2, _bear_v_2 e1 x and _in_p_state e2 e1 y) <-> <place of birth> x y"
      ]
     },
     "execution_count": 31,
     "metadata": {},
     "output_type": "execute_result"
    }
   ],
   "source": [
    "new_axiom(Forall(x, y, Iff(Exists(e1, e2, And(_bear_v_2(e1, x), _in_p_state(e2, e1, y))), place_of_birth(x, y))))"
   ]
  },
  {
   "cell_type": "code",
   "execution_count": 32,
   "id": "a7d499b0-d011-4ac9-a81b-b171eec03582",
   "metadata": {},
   "outputs": [
    {
     "data": {
      "text/plain": [
       "|- exists x11, POA = x11 and (exists x3, ER = x3 and (exists e2 e10, _bear_v_2 e2 x3 and _in_p_state e10 e2 x11))"
      ]
     },
     "execution_count": 32,
     "metadata": {},
     "output_type": "execute_result"
    }
   ],
   "source": [
    "RuleZ3(form)"
   ]
  },
  {
   "cell_type": "markdown",
   "id": "76a5c8f8-b71c-4920-870b-a8ce0e3c4404",
   "metadata": {},
   "source": [
    "### (2) ER was born in Brazil"
   ]
  },
  {
   "cell_type": "code",
   "execution_count": 33,
   "id": "7c9e02c4-a6c6-4972-bb77-d45c1a086740",
   "metadata": {},
   "outputs": [
    {
     "data": {
      "text/plain": [
       "|- Brazil = <Brazil>"
      ]
     },
     "execution_count": 33,
     "metadata": {},
     "output_type": "execute_result"
    }
   ],
   "source": [
    "Brazil_ = Constant('Brazil', a)\n",
    "new_axiom(equal(Brazil_, Brazil))"
   ]
  },
  {
   "cell_type": "code",
   "execution_count": 34,
   "id": "615711c8-57b3-4eb2-b7ff-5c325b7c2905",
   "metadata": {},
   "outputs": [
    {
     "name": "stdout",
     "output_type": "stream",
     "text": [
      "[ TOP: h0\n",
      "  INDEX: e2\n",
      "  RELS: < [ proper_q LBL: h4 ARG0: x3 RSTR: h5 BODY: h6 ]\n",
      "          [ named LBL: h7 ARG0: x3 CARG: \"ER\" ]\n",
      "          [ _bear_v_2 LBL: h1 ARG0: e2 ARG1: u9 ARG2: x3 ]\n",
      "          [ _in_p_state LBL: h1 ARG0: e10 ARG1: e2 ARG2: x11 ]\n",
      "          [ proper_q LBL: h12 ARG0: x11 RSTR: h13 BODY: h14 ]\n",
      "          [ named LBL: h15 ARG0: x11 CARG: \"Brazil\" ] >\n",
      "  HCONS: < h0 qeq h1 h5 qeq h7 h13 qeq h15 > ]\n"
     ]
    }
   ],
   "source": [
    "sol2 = next(mrs_logic.solve('ER was born in Brazil'))\n",
    "print(sol2.mrs)"
   ]
  },
  {
   "cell_type": "code",
   "execution_count": 35,
   "id": "7d3e4949-4c70-49e0-82b0-b937a360930e",
   "metadata": {},
   "outputs": [
    {
     "name": "stdout",
     "output_type": "stream",
     "text": [
      "(exists x11, Brazil = x11 and (exists x3, ER = x3 and (exists e2 e10, _bear_v_2 e2 x3 and _in_p_state e10 e2 x11))) : bool\n"
     ]
    }
   ],
   "source": [
    "form2 = sol2.to_ulkb()\n",
    "print(form2)"
   ]
  },
  {
   "cell_type": "code",
   "execution_count": 36,
   "id": "1945dd4b-07c3-4df6-8e11-17bef5c16ffe",
   "metadata": {},
   "outputs": [
    {
     "name": "stdout",
     "output_type": "stream",
     "text": [
      "RuleZ3: failed to prove '(exists x11, Brazil = x11 and (exists x3, ER = x3 and (exists e2 e10, _bear_v_2 e2 x3 and _in_p_state e10 e2 x11))) : bool'\n"
     ]
    }
   ],
   "source": [
    "try:\n",
    "    RuleZ3(form2)\n",
    "except RuleError as err:\n",
    "    print(err)"
   ]
  },
  {
   "cell_type": "markdown",
   "id": "96b35875-6481-4e55-b29d-9e5646750be5",
   "metadata": {},
   "source": [
    "### (3) Everybody born in POA was born in Brazil"
   ]
  },
  {
   "cell_type": "code",
   "execution_count": 37,
   "id": "4965f85f-0a72-4d26-af12-75508b1d25b0",
   "metadata": {},
   "outputs": [
    {
     "name": "stdout",
     "output_type": "stream",
     "text": [
      "[ TOP: h0\n",
      "  INDEX: e2\n",
      "  RELS: < [ person LBL: h4 ARG0: x3 ]\n",
      "          [ every_q LBL: h5 ARG0: x3 RSTR: h6 BODY: h7 ]\n",
      "          [ _bear_v_2 LBL: h4 ARG0: e8 ARG1: u9 ARG2: x3 ]\n",
      "          [ _in_p_state LBL: h4 ARG0: e10 ARG1: e8 ARG2: x11 ]\n",
      "          [ proper_q LBL: h12 ARG0: x11 RSTR: h13 BODY: h14 ]\n",
      "          [ named LBL: h15 ARG0: x11 CARG: \"POA\" ]\n",
      "          [ _bear_v_2 LBL: h1 ARG0: e2 ARG1: u17 ARG2: x3 ]\n",
      "          [ _in_p_state LBL: h1 ARG0: e18 ARG1: e2 ARG2: x19 ]\n",
      "          [ proper_q LBL: h20 ARG0: x19 RSTR: h21 BODY: h22 ]\n",
      "          [ named LBL: h23 ARG0: x19 CARG: \"Brazil\" ] >\n",
      "  HCONS: < h0 qeq h1 h6 qeq h4 h13 qeq h15 h21 qeq h23 > ]\n"
     ]
    }
   ],
   "source": [
    "sol3 = next(mrs_logic.solve('Everybody born in POA was born in Brazil'))\n",
    "print(sol3.mrs)"
   ]
  },
  {
   "cell_type": "code",
   "execution_count": 38,
   "id": "3952db00-9dab-4e72-abdb-a8035f6bc21a",
   "metadata": {},
   "outputs": [
    {
     "name": "stdout",
     "output_type": "stream",
     "text": [
      "(exists x19, Brazil = x19 and (exists x11, POA = x11 and (forall x3, (exists e8 e10, person x3 and _bear_v_2 e8 x3 and _in_p_state e10 e8 x11) -> (exists e2 e18, _bear_v_2 e2 x3 and _in_p_state e18 e2 x19)))) : bool\n"
     ]
    }
   ],
   "source": [
    "form3 = sol3.to_ulkb()\n",
    "print(form3)"
   ]
  },
  {
   "cell_type": "code",
   "execution_count": 39,
   "id": "14b6b25a-07e9-49c9-a5fa-c0a1e8c4a233",
   "metadata": {},
   "outputs": [
    {
     "data": {
      "text/plain": [
       "|- exists x19, Brazil = x19 and (exists x11, POA = x11 and (forall x3, (exists e8 e10, person x3 and _bear_v_2 e8 x3 and _in_p_state e10 e8 x11) -> (exists e2 e18, _bear_v_2 e2 x3 and _in_p_state e18 e2 x19)))"
      ]
     },
     "execution_count": 39,
     "metadata": {},
     "output_type": "execute_result"
    }
   ],
   "source": [
    "new_axiom(form3)"
   ]
  },
  {
   "cell_type": "code",
   "execution_count": 40,
   "id": "221da1c9-2516-4842-9a47-c81581e825ed",
   "metadata": {},
   "outputs": [
    {
     "data": {
      "text/plain": [
       "|- person ER"
      ]
     },
     "execution_count": 40,
     "metadata": {},
     "output_type": "execute_result"
    }
   ],
   "source": [
    "person = Constant('person', FunctionType(a, bool))\n",
    "new_axiom(person(ER))"
   ]
  },
  {
   "cell_type": "markdown",
   "id": "dec93363-abca-4fad-bfcb-ee6194bee168",
   "metadata": {},
   "source": [
    "With this we can prove:"
   ]
  },
  {
   "cell_type": "code",
   "execution_count": 41,
   "id": "6ab2ae0d-943f-4ea9-9acf-99f8e3c07645",
   "metadata": {},
   "outputs": [
    {
     "data": {
      "text/plain": [
       "|- exists x11, Brazil = x11 and (exists x3, ER = x3 and (exists e2 e10, _bear_v_2 e2 x3 and _in_p_state e10 e2 x11))"
      ]
     },
     "execution_count": 41,
     "metadata": {},
     "output_type": "execute_result"
    }
   ],
   "source": [
    "RuleZ3(form2)"
   ]
  },
  {
   "cell_type": "markdown",
   "id": "2454d471-3a58-4763-83db-f0a9372553ef",
   "metadata": {},
   "source": [
    "Or even better:"
   ]
  },
  {
   "cell_type": "code",
   "execution_count": 42,
   "id": "247a7e0f-a8af-41a9-86d9-114d89754557",
   "metadata": {},
   "outputs": [
    {
     "data": {
      "text/plain": [
       "|- <place of birth> <Elis Regina> <Brazil>"
      ]
     },
     "execution_count": 42,
     "metadata": {},
     "output_type": "execute_result"
    }
   ],
   "source": [
    "RuleZ3(place_of_birth(Elis_Regina, Brazil))"
   ]
  }
 ],
 "metadata": {
  "kernelspec": {
   "display_name": "Python 3 (ipykernel)",
   "language": "python",
   "name": "python3"
  },
  "language_info": {
   "codemirror_mode": {
    "name": "ipython",
    "version": 3
   },
   "file_extension": ".py",
   "mimetype": "text/x-python",
   "name": "python",
   "nbconvert_exporter": "python",
   "pygments_lexer": "ipython3",
   "version": "3.12.3"
  }
 },
 "nbformat": 4,
 "nbformat_minor": 5
}
