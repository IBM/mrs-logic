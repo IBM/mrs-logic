{
 "cells": [
  {
   "cell_type": "code",
   "execution_count": 1,
   "id": "f33af94e-cdac-4c5c-9a16-186780c97542",
   "metadata": {
    "tags": []
   },
   "outputs": [
    {
     "name": "stdout",
     "output_type": "stream",
     "text": [
      "No matching processes belonging to you were found\n",
      "env: ACE_GRAMMAR=../erg.dat\n"
     ]
    }
   ],
   "source": [
    "! killall ukb_wsd\n",
    "%set_env ACE_GRAMMAR erg.dat\n",
    "from mrs_logic import *\n",
    "from ulkb import *"
   ]
  },
  {
   "cell_type": "markdown",
   "id": "59b43a00-aa46-4a0c-b38e-06157af416ac",
   "metadata": {},
   "source": [
    "## The syllogism"
   ]
  },
  {
   "cell_type": "code",
   "execution_count": 2,
   "id": "0f279071-c4ea-4dc0-ac26-ed62e3fa3b13",
   "metadata": {
    "tags": []
   },
   "outputs": [
    {
     "ename": "ACE_Error",
     "evalue": "no such grammar file: ../erg.dat",
     "output_type": "error",
     "traceback": [
      "\u001b[0;31m---------------------------------------------------------------------------\u001b[0m",
      "\u001b[0;31mACE_Error\u001b[0m                                 Traceback (most recent call last)",
      "Cell \u001b[0;32mIn[2], line 1\u001b[0m\n\u001b[0;32m----> 1\u001b[0m A \u001b[38;5;241m=\u001b[39m \u001b[38;5;28;43mnext\u001b[39;49m\u001b[43m(\u001b[49m\u001b[43msolve\u001b[49m\u001b[43m(\u001b[49m\u001b[38;5;124;43m'\u001b[39;49m\u001b[38;5;124;43mEvery man is mortal.\u001b[39;49m\u001b[38;5;124;43m'\u001b[39;49m\u001b[43m)\u001b[49m\u001b[43m)\u001b[49m\n\u001b[1;32m      2\u001b[0m B \u001b[38;5;241m=\u001b[39m \u001b[38;5;28mnext\u001b[39m(solve(\u001b[38;5;124m'\u001b[39m\u001b[38;5;124mSocrates is a man.\u001b[39m\u001b[38;5;124m'\u001b[39m))\n\u001b[1;32m      3\u001b[0m C \u001b[38;5;241m=\u001b[39m \u001b[38;5;28mnext\u001b[39m(solve(\u001b[38;5;124m'\u001b[39m\u001b[38;5;124mSocrates is mortal.\u001b[39m\u001b[38;5;124m'\u001b[39m))\n",
      "File \u001b[0;32m~/r/mrs-logic/mrs_logic/mrs_logic.py:129\u001b[0m, in \u001b[0;36m_solve\u001b[0;34m(mrs_it, **kwargs)\u001b[0m\n\u001b[1;32m    127\u001b[0m context \u001b[38;5;241m=\u001b[39m kwargs\u001b[38;5;241m.\u001b[39mpop(\u001b[38;5;124m'\u001b[39m\u001b[38;5;124mcontext\u001b[39m\u001b[38;5;124m'\u001b[39m)\n\u001b[1;32m    128\u001b[0m \u001b[38;5;28;01mif\u001b[39;00m order \u001b[38;5;241m==\u001b[39m \u001b[38;5;124m'\u001b[39m\u001b[38;5;124mdfs\u001b[39m\u001b[38;5;124m'\u001b[39m:\n\u001b[0;32m--> 129\u001b[0m \u001b[43m    \u001b[49m\u001b[38;5;28;43;01mfor\u001b[39;49;00m\u001b[43m \u001b[49m\u001b[43mmrs\u001b[49m\u001b[43m \u001b[49m\u001b[38;5;129;43;01min\u001b[39;49;00m\u001b[43m \u001b[49m\u001b[43mmrs_it\u001b[49m\u001b[43m:\u001b[49m\n\u001b[1;32m    130\u001b[0m \u001b[43m        \u001b[49m\u001b[43msn_it\u001b[49m\u001b[43m \u001b[49m\u001b[38;5;241;43m=\u001b[39;49m\u001b[43m \u001b[49m\u001b[43m(\u001b[49m\u001b[43mSolver\u001b[49m\u001b[43m(\u001b[49m\u001b[43mmrs\u001b[49m\u001b[43m,\u001b[49m\u001b[43m \u001b[49m\u001b[43mcontext\u001b[49m\u001b[38;5;241;43m=\u001b[39;49m\u001b[43mcontext\u001b[49m\u001b[43m)\u001b[49m\n\u001b[1;32m    131\u001b[0m \u001b[43m                 \u001b[49m\u001b[38;5;241;43m.\u001b[39;49m\u001b[43miterate_solutions\u001b[49m\u001b[43m(\u001b[49m\u001b[38;5;241;43m*\u001b[39;49m\u001b[38;5;241;43m*\u001b[39;49m\u001b[43mkwargs\u001b[49m\u001b[43m)\u001b[49m\u001b[43m)\u001b[49m\n\u001b[1;32m    132\u001b[0m \u001b[43m        \u001b[49m\u001b[38;5;28;43;01mfor\u001b[39;49;00m\u001b[43m \u001b[49m\u001b[43msn\u001b[49m\u001b[43m \u001b[49m\u001b[38;5;129;43;01min\u001b[39;49;00m\u001b[43m \u001b[49m\u001b[43msn_it\u001b[49m\u001b[43m:\u001b[49m\n",
      "File \u001b[0;32m~/r/mrs-logic/mrs_logic/mrs_logic.py:48\u001b[0m, in \u001b[0;36mparse\u001b[0;34m(input, start, stop, step, grammar, context)\u001b[0m\n\u001b[1;32m     46\u001b[0m context \u001b[38;5;241m=\u001b[39m Context\u001b[38;5;241m.\u001b[39m_get(context)\n\u001b[1;32m     47\u001b[0m \u001b[38;5;28;01mif\u001b[39;00m \u001b[38;5;28misinstance\u001b[39m(\u001b[38;5;28minput\u001b[39m, \u001b[38;5;28mstr\u001b[39m):\n\u001b[0;32m---> 48\u001b[0m     ret \u001b[38;5;241m=\u001b[39m \u001b[43m_parse\u001b[49m\u001b[43m(\u001b[49m\u001b[38;5;28;43minput\u001b[39;49m\u001b[43m,\u001b[49m\u001b[43m \u001b[49m\u001b[43mgrammar\u001b[49m\u001b[43m,\u001b[49m\u001b[43m \u001b[49m\u001b[43mcontext\u001b[49m\u001b[43m)\u001b[49m\n\u001b[1;32m     49\u001b[0m \u001b[38;5;28;01melse\u001b[39;00m:\n\u001b[1;32m     50\u001b[0m     ret \u001b[38;5;241m=\u001b[39m \u001b[38;5;28minput\u001b[39m\n",
      "File \u001b[0;32m~/r/mrs-logic/mrs_logic/mrs_logic.py:65\u001b[0m, in \u001b[0;36m_parse\u001b[0;34m(input, grammar, context)\u001b[0m\n\u001b[1;32m     63\u001b[0m     ace \u001b[38;5;241m=\u001b[39m context\u001b[38;5;241m.\u001b[39m_mk_ace(grammar\u001b[38;5;241m=\u001b[39mgrammar)\n\u001b[1;32m     64\u001b[0m \u001b[38;5;28;01melse\u001b[39;00m:\n\u001b[0;32m---> 65\u001b[0m     ace \u001b[38;5;241m=\u001b[39m \u001b[43mcontext\u001b[49m\u001b[38;5;241;43m.\u001b[39;49m\u001b[43mace\u001b[49m\n\u001b[1;32m     66\u001b[0m \u001b[38;5;28;01mreturn\u001b[39;00m ace\u001b[38;5;241m.\u001b[39mparse(\u001b[38;5;28minput\u001b[39m)\n",
      "File \u001b[0;32m~/r/mrs-logic/mrs_logic/context.py:87\u001b[0m, in \u001b[0;36mContext.ace\u001b[0;34m(self)\u001b[0m\n\u001b[1;32m     85\u001b[0m \u001b[38;5;250m\u001b[39m\u001b[38;5;124;03m\"\"\"The associated ACE instance.\"\"\"\u001b[39;00m\n\u001b[1;32m     86\u001b[0m \u001b[38;5;28;01mif\u001b[39;00m \u001b[38;5;28mself\u001b[39m\u001b[38;5;241m.\u001b[39m_ace \u001b[38;5;129;01mis\u001b[39;00m \u001b[38;5;28;01mNone\u001b[39;00m:\n\u001b[0;32m---> 87\u001b[0m     \u001b[38;5;28;43mself\u001b[39;49m\u001b[38;5;241;43m.\u001b[39;49m\u001b[43mreset_ace\u001b[49m\u001b[43m(\u001b[49m\u001b[43m)\u001b[49m\n\u001b[1;32m     88\u001b[0m     \u001b[38;5;28;01massert\u001b[39;00m \u001b[38;5;28mself\u001b[39m\u001b[38;5;241m.\u001b[39m_ace \u001b[38;5;129;01mis\u001b[39;00m \u001b[38;5;129;01mnot\u001b[39;00m \u001b[38;5;28;01mNone\u001b[39;00m\n\u001b[1;32m     89\u001b[0m \u001b[38;5;28;01mreturn\u001b[39;00m \u001b[38;5;28mself\u001b[39m\u001b[38;5;241m.\u001b[39m_ace\n",
      "File \u001b[0;32m~/r/mrs-logic/mrs_logic/context.py:108\u001b[0m, in \u001b[0;36mContext.reset_ace\u001b[0;34m(self, **kwargs)\u001b[0m\n\u001b[1;32m     99\u001b[0m \u001b[38;5;28;01mdef\u001b[39;00m \u001b[38;5;21mreset_ace\u001b[39m(\u001b[38;5;28mself\u001b[39m, \u001b[38;5;241m*\u001b[39m\u001b[38;5;241m*\u001b[39mkwargs):\n\u001b[1;32m    100\u001b[0m \u001b[38;5;250m    \u001b[39m\u001b[38;5;124;03m\"\"\"Resets ACE instance.\u001b[39;00m\n\u001b[1;32m    101\u001b[0m \n\u001b[1;32m    102\u001b[0m \u001b[38;5;124;03m    Parameters:\u001b[39;00m\n\u001b[0;32m   (...)\u001b[0m\n\u001b[1;32m    106\u001b[0m \u001b[38;5;124;03m       The reset :class:`ACE` instance.\u001b[39;00m\n\u001b[1;32m    107\u001b[0m \u001b[38;5;124;03m    \"\"\"\u001b[39;00m\n\u001b[0;32m--> 108\u001b[0m     \u001b[38;5;28mself\u001b[39m\u001b[38;5;241m.\u001b[39m_ace \u001b[38;5;241m=\u001b[39m \u001b[43mACE\u001b[49m\u001b[43m(\u001b[49m\n\u001b[1;32m    109\u001b[0m \u001b[43m        \u001b[49m\u001b[43mgrammar\u001b[49m\u001b[38;5;241;43m=\u001b[39;49m\u001b[43mkwargs\u001b[49m\u001b[38;5;241;43m.\u001b[39;49m\u001b[43mpop\u001b[49m\u001b[43m(\u001b[49m\u001b[38;5;124;43m'\u001b[39;49m\u001b[38;5;124;43mgrammar\u001b[39;49m\u001b[38;5;124;43m'\u001b[39;49m\u001b[43m,\u001b[49m\u001b[43m \u001b[49m\u001b[38;5;28;43mself\u001b[39;49m\u001b[38;5;241;43m.\u001b[39;49m\u001b[43m_grammar\u001b[49m\u001b[43m)\u001b[49m\u001b[43m,\u001b[49m\u001b[43m \u001b[49m\u001b[38;5;241;43m*\u001b[39;49m\u001b[38;5;241;43m*\u001b[39;49m\u001b[43mkwargs\u001b[49m\u001b[43m)\u001b[49m\n\u001b[1;32m    110\u001b[0m     \u001b[38;5;28;01mreturn\u001b[39;00m \u001b[38;5;28mself\u001b[39m\u001b[38;5;241m.\u001b[39m_ace\n",
      "File \u001b[0;32m~/r/mrs-logic/mrs_logic/ace/__init__.py:24\u001b[0m, in \u001b[0;36mACE.__init__\u001b[0;34m(self, grammar, log)\u001b[0m\n\u001b[1;32m     22\u001b[0m \u001b[38;5;28mself\u001b[39m\u001b[38;5;241m.\u001b[39m_log \u001b[38;5;241m=\u001b[39m \u001b[38;5;28;01mNone\u001b[39;00m\n\u001b[1;32m     23\u001b[0m \u001b[38;5;28;01mif\u001b[39;00m \u001b[38;5;129;01mnot\u001b[39;00m util\u001b[38;5;241m.\u001b[39mPath(\u001b[38;5;28mself\u001b[39m\u001b[38;5;241m.\u001b[39m_grammar)\u001b[38;5;241m.\u001b[39mis_file():\n\u001b[0;32m---> 24\u001b[0m     \u001b[38;5;28;01mraise\u001b[39;00m ACE_Error(\u001b[38;5;124mf\u001b[39m\u001b[38;5;124m'\u001b[39m\u001b[38;5;124mno such grammar file: \u001b[39m\u001b[38;5;132;01m{\u001b[39;00m\u001b[38;5;28mself\u001b[39m\u001b[38;5;241m.\u001b[39m_grammar\u001b[38;5;132;01m}\u001b[39;00m\u001b[38;5;124m'\u001b[39m)\n\u001b[1;32m     25\u001b[0m \u001b[38;5;28mself\u001b[39m\u001b[38;5;241m.\u001b[39m_log \u001b[38;5;241m=\u001b[39m log \u001b[38;5;129;01mor\u001b[39;00m \u001b[38;5;28mself\u001b[39m\u001b[38;5;241m.\u001b[39m_getenv(\u001b[38;5;124m'\u001b[39m\u001b[38;5;124mACE_LOG\u001b[39m\u001b[38;5;124m'\u001b[39m, util\u001b[38;5;241m.\u001b[39mos\u001b[38;5;241m.\u001b[39mdevnull)\n\u001b[1;32m     26\u001b[0m \u001b[38;5;28mself\u001b[39m\u001b[38;5;241m.\u001b[39m_log \u001b[38;5;241m=\u001b[39m \u001b[38;5;28mopen\u001b[39m(\u001b[38;5;28mself\u001b[39m\u001b[38;5;241m.\u001b[39m_log, \u001b[38;5;124m'\u001b[39m\u001b[38;5;124ma\u001b[39m\u001b[38;5;124m'\u001b[39m)\n",
      "\u001b[0;31mACE_Error\u001b[0m: no such grammar file: ../erg.dat"
     ]
    }
   ],
   "source": [
    "A = next(solve('Every man is mortal.'))\n",
    "B = next(solve('Socrates is a man.'))\n",
    "C = next(solve('Socrates is mortal.'))"
   ]
  },
  {
   "cell_type": "code",
   "execution_count": null,
   "id": "37dc8d5b-d638-413a-a33f-3c011eeafd11",
   "metadata": {
    "tags": []
   },
   "outputs": [],
   "source": [
    "print(A.mrs, B.mrs, C.mrs, sep=f'\\n{\"=\"*80}\\n')"
   ]
  },
  {
   "cell_type": "markdown",
   "id": "4dd8ba5a-e626-4e52-85f3-567c3b873fa0",
   "metadata": {},
   "source": [
    "### Solution 1: Ignore evars and treat `_be_v_id` as equality"
   ]
  },
  {
   "cell_type": "code",
   "execution_count": null,
   "id": "6be7f7b9-bcb3-4e05-add4-f4e1a1da713b",
   "metadata": {
    "tags": []
   },
   "outputs": [],
   "source": [
    "aty = TypeVariable('a')\n",
    "settings.serializer.ulkb.show_types = False\n",
    "settings.serializer.ulkb.show_annotations = False "
   ]
  },
  {
   "cell_type": "code",
   "execution_count": null,
   "id": "6ff55923-1aee-4e51-9316-89c3e1641e4c",
   "metadata": {
    "tags": []
   },
   "outputs": [],
   "source": [
    "PA = A.to_ulkb(universe_type=aty, drop_evars=True)\n",
    "print(PA.serialize(show_types=True))"
   ]
  },
  {
   "cell_type": "code",
   "execution_count": null,
   "id": "5547eec3-22be-4205-bc9e-984316c2ce1e",
   "metadata": {
    "tags": []
   },
   "outputs": [],
   "source": [
    "PB = B.to_ulkb(universe_type=aty, drop_evars=True, \n",
    "               translate_quantifiers = True,\n",
    "               translate_predicates = True, mk_p_equal = ['_be_v_id'])\n",
    "print(PB)"
   ]
  },
  {
   "cell_type": "code",
   "execution_count": null,
   "id": "d2d2f487-c9b3-4514-b808-657d5fb1ee83",
   "metadata": {
    "tags": []
   },
   "outputs": [],
   "source": [
    "PC = C.to_ulkb(universe_type=aty, drop_evars=True)\n",
    "print(PC)"
   ]
  },
  {
   "cell_type": "code",
   "execution_count": null,
   "id": "bbae910e-cecf-42d5-8e46-b108b57b3d6a",
   "metadata": {
    "tags": []
   },
   "outputs": [],
   "source": [
    "RuleZ3(Implies(PA, PB, PC))"
   ]
  },
  {
   "cell_type": "markdown",
   "id": "8b290fce-bebc-413e-8748-49707a353ab1",
   "metadata": {},
   "source": [
    "### Solution 2: Handle the evars and `_be_v_id` in auxiliary axioms"
   ]
  },
  {
   "cell_type": "code",
   "execution_count": null,
   "id": "23eea023-2e83-46ff-9980-b223840d0859",
   "metadata": {
    "tags": []
   },
   "outputs": [],
   "source": [
    "PA = A.to_ulkb(universe_type=aty)\n",
    "print(PA)"
   ]
  },
  {
   "cell_type": "code",
   "execution_count": null,
   "id": "0a558242-11d6-4d08-8fe9-5aa1a07adaee",
   "metadata": {
    "tags": []
   },
   "outputs": [],
   "source": [
    "PB = B.to_ulkb(universe_type=aty)\n",
    "print(PB)"
   ]
  },
  {
   "cell_type": "code",
   "execution_count": null,
   "id": "65f94995-5a85-4974-ae3a-1e6bc0e82a88",
   "metadata": {
    "tags": []
   },
   "outputs": [],
   "source": [
    "PC = C.to_ulkb(universe_type=aty)\n",
    "print(PC)"
   ]
  },
  {
   "cell_type": "code",
   "execution_count": null,
   "id": "ebd5d0ce-082a-47ed-a638-264a6af2ea83",
   "metadata": {
    "tags": []
   },
   "outputs": [],
   "source": [
    "new_axiom('ax_PA', PA)\n",
    "new_axiom('ax_PB', PB)\n",
    "show_axioms()"
   ]
  },
  {
   "cell_type": "code",
   "execution_count": null,
   "id": "1601e1ff-817e-477f-81b1-967fb4560bfc",
   "metadata": {
    "tags": []
   },
   "outputs": [],
   "source": [
    "_be_v_id = new_constant('_be_v_id', FunctionType(aty, aty, aty, bool))"
   ]
  },
  {
   "cell_type": "code",
   "execution_count": null,
   "id": "c4955f4c-bd86-4d6f-bc8c-7334f25edfef",
   "metadata": {
    "tags": []
   },
   "outputs": [],
   "source": [
    "ei, ej, x, y = Variables('ei', 'ej', 'x', 'y', aty)\n",
    "new_axiom('ax__be_v_id', Forall(ei, x, y, Implies(_be_v_id(ei, x, y), Equal(x, y))))\n",
    "show_axioms()"
   ]
  },
  {
   "cell_type": "code",
   "execution_count": null,
   "id": "c0b34974-c06d-4006-a481-81f5bff3e0da",
   "metadata": {
    "tags": []
   },
   "outputs": [],
   "source": [
    "RuleZ3(PC)"
   ]
  },
  {
   "cell_type": "code",
   "execution_count": null,
   "id": "fb771091-50db-4eee-8653-c2dd9c463400",
   "metadata": {},
   "outputs": [],
   "source": []
  }
 ],
 "metadata": {
  "kernelspec": {
   "display_name": "Python 3 (ipykernel)",
   "language": "python",
   "name": "python3"
  },
  "language_info": {
   "codemirror_mode": {
    "name": "ipython",
    "version": 3
   },
   "file_extension": ".py",
   "mimetype": "text/x-python",
   "name": "python",
   "nbconvert_exporter": "python",
   "pygments_lexer": "ipython3",
   "version": "3.12.4"
  }
 },
 "nbformat": 4,
 "nbformat_minor": 5
}
